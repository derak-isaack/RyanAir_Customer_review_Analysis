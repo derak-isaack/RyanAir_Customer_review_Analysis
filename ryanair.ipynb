{
 "cells": [
  {
   "cell_type": "markdown",
   "metadata": {},
   "source": [
    "<div style=\"padding: 35px;color:white;margin:10;font-size:200%;text-align:center;display:fill;border-radius:10px;overflow:hidden;background-image: url(https://images.pexels.com/photos/7078619/pexels-photo-7078619.jpeg?auto=compress&cs=tinysrgb&w=1260&h=750&dpr=1)\"><b><span style='color:black'><strong>RYANAIR CUSTOMER REVIEW ANALYSIS </strong></span></b> </div> "
   ]
  },
  {
   "cell_type": "markdown",
   "metadata": {},
   "source": [
    " \n",
    "<img src=\"ryanair.jpg\" alt=\"Description of the image\">"
   ]
  },
  {
   "cell_type": "markdown",
   "metadata": {},
   "source": [
    "## <div style=\"padding: 20px;color:white;margin:10;font-size:90%;text-align:left;display:fill;border-radius:10px;overflow:hidden;background-image: url(https://w0.peakpx.com/wallpaper/957/661/HD-wallpaper-white-marble-white-stone-texture-marble-stone-background-white-stone.jpg)\"><b><span style='color:black'> Business Understanding</span></b> </div>\n",
    "\n",
    "In the airline industry, customer reviews and surveys play a pivotal role in shaping and enhancing the overall customer experience. Companies, such as RyanAir, routinely conduct follow-ups on specific services based on valuable customer feedback, making necessary improvements to ensure satisfaction.\n",
    "\n",
    "Customer reviews hold significant influence, often swaying people's decisions to try out a particular airline. These reviews impact critical aspects, including boarding decisions. Recognizing the importance of customer feedback is crucial in a service-oriented industry like aviation, as it not only guides improvements but also contributes to better recommendations and choices in the market."
   ]
  },
  {
   "cell_type": "markdown",
   "metadata": {},
   "source": [
    "## <div style=\"padding: 20px;color:white;margin:10;font-size:90%;text-align:left;display:fill;border-radius:10px;overflow:hidden;background-image: url(https://w0.peakpx.com/wallpaper/957/661/HD-wallpaper-white-marble-white-stone-texture-marble-stone-background-white-stone.jpg)\"><b><span style='color:black'> Objectives</span></b> </div>\n",
    "1. Conduct a sentiment analysis of **RyanAir** customer reviews.\n",
    "2. Identify the most logged complain from clients.\n",
    "3. Assess passenger classes to determine which class receives the highest number of complaints and, conversely, the highest appreciation.  \n",
    "\n",
    "### <b> <span style='color:#16C2D5'>|</span>Potential Challenges</b> \n",
    "1. Small amount of data. \n",
    "2. High number of missing values. \n",
    "3. Less informartion about boarding classes. "
   ]
  },
  {
   "cell_type": "markdown",
   "metadata": {},
   "source": [
    "### <b> <span style='color:#16C2D5'>|</span> Importing libraries</b> \n",
    "For easier data manipulation, visualization, sentiment analysis and topic modelling, the followig libraries are essential to be successfull with the task at hand namely:\n",
    "* **pyLDAvis** and **gensim** for topic modelling.\n",
    "* **Vader** for Sentiment analysis.\n",
    "* **NLTK** for text analysis. \n",
    "* **Requests** and **BeautifulSoup** for scraping reviews. "
   ]
  },
  {
   "cell_type": "code",
   "execution_count": 34,
   "metadata": {},
   "outputs": [],
   "source": [
    "from bs4 import BeautifulSoup \n",
    "import pandas as pd \n",
    "import numpy as np \n",
    "import requests \n",
    "import re \n",
    "\n",
    "# Visualization libraries. \n",
    "import matplotlib.pyplot as plt \n",
    "%matplotlib inline \n",
    "import seaborn as sns \n",
    "\n",
    "# Text analysis libraries. \n",
    "import nltk \n",
    "from nltk.corpus import stopwords\n",
    "from nltk.stem.wordnet import WordNetLemmatizer  \n",
    "from nltk.tokenize import word_tokenize\n",
    "import string \n",
    "from sklearn.feature_extraction.text import TfidfVectorizer   \n",
    "\n",
    "from vaderSentiment.vaderSentiment import SentimentIntensityAnalyzer\n",
    "\n",
    "# Topic modelling libraries.\n",
    "from pprint import pprint \n",
    "import pyLDAvis.gensim_models \n",
    "import gensim \n",
    "from gensim.utils import simple_preprocess \n",
    "from pyLDAvis import gensim \n",
    "from gensim import corpora, models   \n",
    "\n",
    "import warnings"
   ]
  },
  {
   "cell_type": "markdown",
   "metadata": {},
   "source": [
    "### <b> <span style='color:#16C2D5'>|</span> Scraping reviews</b> \n",
    "\n",
    "To get **RYANAIR** reviews, scraping has to be done. The reviews are hosted on the **Skytrax** website. This is made possible by the **BeautifulSoup** and **Request** libraries. It is also necessary to include the pagination of the results because each page has 20 reviews and 2000 reviews are needed. \n",
    "\n",
    "After scraping the reiews, it is also reccommended to store the data in a dataframe and later export it to a **CSV file** for easier data retrieval and modelling purposes. "
   ]
  },
  {
   "cell_type": "code",
   "execution_count": 2,
   "metadata": {},
   "outputs": [
    {
     "name": "stdout",
     "output_type": "stream",
     "text": [
      "Scraping page 1\n",
      "   ---> 100 total reviews\n",
      "Scraping page 2\n",
      "   ---> 200 total reviews\n",
      "Scraping page 3\n",
      "   ---> 300 total reviews\n",
      "Scraping page 4\n",
      "   ---> 400 total reviews\n",
      "Scraping page 5\n",
      "   ---> 500 total reviews\n",
      "Scraping page 6\n",
      "   ---> 600 total reviews\n",
      "Scraping page 7\n",
      "   ---> 700 total reviews\n",
      "Scraping page 8\n",
      "   ---> 800 total reviews\n",
      "Scraping page 9\n",
      "   ---> 900 total reviews\n",
      "Scraping page 10\n",
      "   ---> 1000 total reviews\n",
      "Scraping page 11\n",
      "   ---> 1100 total reviews\n",
      "Scraping page 12\n",
      "   ---> 1200 total reviews\n",
      "Scraping page 13\n",
      "   ---> 1300 total reviews\n",
      "Scraping page 14\n",
      "   ---> 1400 total reviews\n",
      "Scraping page 15\n",
      "   ---> 1500 total reviews\n",
      "Scraping page 16\n",
      "   ---> 1600 total reviews\n",
      "Scraping page 17\n",
      "   ---> 1700 total reviews\n",
      "Scraping page 18\n",
      "   ---> 1800 total reviews\n",
      "Scraping page 19\n",
      "   ---> 1900 total reviews\n",
      "Scraping page 20\n",
      "   ---> 2000 total reviews\n"
     ]
    }
   ],
   "source": [
    "# Scrape the reviews from skytrax website \n",
    "base_url = \"https://www.airlinequality.com/airline-reviews/ryanair\"\n",
    "pages = 20 \n",
    "page_size = 100\n",
    "\n",
    "reviews = []\n",
    "\n",
    "# for i in range(1, pages + 1):\n",
    "for i in range(1, pages + 1):\n",
    "\n",
    "    print(f\"Scraping page {i}\")\n",
    "\n",
    "    # Create URL to collect links from paginated data\n",
    "    url = f\"{base_url}/page/{i}/?sortby=post_date%3ADesc&pagesize={page_size}\"\n",
    "\n",
    "    # Collect HTML data from this page\n",
    "    response = requests.get(url)\n",
    "\n",
    "    # Parse content\n",
    "    content = response.content\n",
    "    parsed_content = BeautifulSoup(content, 'html.parser')\n",
    "    for para in parsed_content.find_all(\"div\", {\"class\": \"text_content\"}):\n",
    "        reviews.append(para.get_text())\n",
    "    \n",
    "    print(f\"   ---> {len(reviews)} total reviews\")"
   ]
  },
  {
   "cell_type": "code",
   "execution_count": 5,
   "metadata": {},
   "outputs": [],
   "source": [
    "# Save the reviews to a pandas dataframe and later to a CSV file. \n",
    "df = pd.DataFrame(reviews)\n",
    "df.to_csv(\"ryan_reviews.csv\")"
   ]
  },
  {
   "cell_type": "code",
   "execution_count": 3,
   "metadata": {},
   "outputs": [
    {
     "data": {
      "text/html": [
       "<div>\n",
       "<style scoped>\n",
       "    .dataframe tbody tr th:only-of-type {\n",
       "        vertical-align: middle;\n",
       "    }\n",
       "\n",
       "    .dataframe tbody tr th {\n",
       "        vertical-align: top;\n",
       "    }\n",
       "\n",
       "    .dataframe thead th {\n",
       "        text-align: right;\n",
       "    }\n",
       "</style>\n",
       "<table border=\"1\" class=\"dataframe\">\n",
       "  <thead>\n",
       "    <tr style=\"text-align: right;\">\n",
       "      <th></th>\n",
       "      <th>Unnamed: 0</th>\n",
       "      <th>0</th>\n",
       "    </tr>\n",
       "  </thead>\n",
       "  <tbody>\n",
       "    <tr>\n",
       "      <th>0</th>\n",
       "      <td>0</td>\n",
       "      <td>✅ Trip Verified | Really impressed! You get wh...</td>\n",
       "    </tr>\n",
       "    <tr>\n",
       "      <th>1</th>\n",
       "      <td>1</td>\n",
       "      <td>✅ Trip Verified |  I should like to review my ...</td>\n",
       "    </tr>\n",
       "    <tr>\n",
       "      <th>2</th>\n",
       "      <td>2</td>\n",
       "      <td>✅ Trip Verified | Flight left the gate ahead o...</td>\n",
       "    </tr>\n",
       "    <tr>\n",
       "      <th>3</th>\n",
       "      <td>3</td>\n",
       "      <td>Not Verified | Booked a fight from Copenhagen ...</td>\n",
       "    </tr>\n",
       "    <tr>\n",
       "      <th>4</th>\n",
       "      <td>4</td>\n",
       "      <td>Not Verified |  The flight itself is operated ...</td>\n",
       "    </tr>\n",
       "  </tbody>\n",
       "</table>\n",
       "</div>"
      ],
      "text/plain": [
       "   Unnamed: 0                                                  0\n",
       "0           0  ✅ Trip Verified | Really impressed! You get wh...\n",
       "1           1  ✅ Trip Verified |  I should like to review my ...\n",
       "2           2  ✅ Trip Verified | Flight left the gate ahead o...\n",
       "3           3  Not Verified | Booked a fight from Copenhagen ...\n",
       "4           4  Not Verified |  The flight itself is operated ..."
      ]
     },
     "execution_count": 3,
     "metadata": {},
     "output_type": "execute_result"
    }
   ],
   "source": [
    "df2 = pd.read_csv(\"ryan_reviews.csv\")\n",
    "df2.head()"
   ]
  },
  {
   "cell_type": "code",
   "execution_count": 4,
   "metadata": {},
   "outputs": [],
   "source": [
    "df2.rename(columns={'0':'air_reviews'}, inplace=True)\n",
    "df2.drop(columns=['Unnamed: 0'], inplace=True) "
   ]
  },
  {
   "cell_type": "markdown",
   "metadata": {},
   "source": [
    "Split the data to exclude the verification details of the trip. This helps to only remain with the airlin ereviews on which sentiment analysis and topic modelling is to be performed. "
   ]
  },
  {
   "cell_type": "code",
   "execution_count": 5,
   "metadata": {},
   "outputs": [],
   "source": [
    "# Split the data to only include the review \n",
    "df2['air_reviews'] = df2['air_reviews'].str.split('|',expand=True)[1]"
   ]
  },
  {
   "cell_type": "code",
   "execution_count": 6,
   "metadata": {},
   "outputs": [],
   "source": [
    "# Drop null values. \n",
    "df2.dropna(inplace=True)"
   ]
  },
  {
   "cell_type": "code",
   "execution_count": 7,
   "metadata": {},
   "outputs": [],
   "source": [
    "# Function to clean up text and make it ready for topic modelling. \n",
    "def clean_text(text):\n",
    "    \"\"\"\n",
    "    Function to clean up the text by lowercasing,\n",
    "    removing the dates and any other numbers present.\n",
    "    It also tokenizes the words and vectorizes them for modellng        \n",
    "    Parameters\n",
    "    \n",
    "    \"\"\"\n",
    "    # Lowercase the text\n",
    "    text = text.lower() \n",
    "    # Remove the punctuations \n",
    "    text = re.sub(r'[^\\w\\s]', '', text) \n",
    "    # Remove the dates  \n",
    "    text = re.sub(r'\\b\\d{1,2}[/-]\\d{1,2}[/-]\\d{4}\\b', '', text)\n",
    "    # remove any numbers \n",
    "    text = re.sub(r'\\d+', '', text)        \n",
    "    \n",
    "    return text    "
   ]
  },
  {
   "cell_type": "code",
   "execution_count": 8,
   "metadata": {},
   "outputs": [],
   "source": [
    "df2['air_reviews'] = df2['air_reviews'].apply(clean_text)"
   ]
  },
  {
   "cell_type": "code",
   "execution_count": 9,
   "metadata": {},
   "outputs": [
    {
     "data": {
      "text/html": [
       "<div>\n",
       "<style scoped>\n",
       "    .dataframe tbody tr th:only-of-type {\n",
       "        vertical-align: middle;\n",
       "    }\n",
       "\n",
       "    .dataframe tbody tr th {\n",
       "        vertical-align: top;\n",
       "    }\n",
       "\n",
       "    .dataframe thead th {\n",
       "        text-align: right;\n",
       "    }\n",
       "</style>\n",
       "<table border=\"1\" class=\"dataframe\">\n",
       "  <thead>\n",
       "    <tr style=\"text-align: right;\">\n",
       "      <th></th>\n",
       "      <th>air_reviews</th>\n",
       "    </tr>\n",
       "  </thead>\n",
       "  <tbody>\n",
       "    <tr>\n",
       "      <th>0</th>\n",
       "      <td>really impressed you get what you pay for thi...</td>\n",
       "    </tr>\n",
       "    <tr>\n",
       "      <th>1</th>\n",
       "      <td>i should like to review my flight from faro ...</td>\n",
       "    </tr>\n",
       "    <tr>\n",
       "      <th>2</th>\n",
       "      <td>flight left the gate ahead of schedule fare w...</td>\n",
       "    </tr>\n",
       "    <tr>\n",
       "      <th>3</th>\n",
       "      <td>booked a fight from copenhagen to poland thou...</td>\n",
       "    </tr>\n",
       "    <tr>\n",
       "      <th>4</th>\n",
       "      <td>the flight itself is operated by malta air a...</td>\n",
       "    </tr>\n",
       "    <tr>\n",
       "      <th>...</th>\n",
       "      <td>...</td>\n",
       "    </tr>\n",
       "    <tr>\n",
       "      <th>1364</th>\n",
       "      <td>i flew ryanair from london luton to malta in...</td>\n",
       "    </tr>\n",
       "    <tr>\n",
       "      <th>1365</th>\n",
       "      <td>first flight from athens to thessaloniki ful...</td>\n",
       "    </tr>\n",
       "    <tr>\n",
       "      <th>1366</th>\n",
       "      <td>gladub day return tickets a bargain at  for ...</td>\n",
       "    </tr>\n",
       "    <tr>\n",
       "      <th>1367</th>\n",
       "      <td>seville to dublin with ryanair loud creaking...</td>\n",
       "    </tr>\n",
       "    <tr>\n",
       "      <th>1369</th>\n",
       "      <td>cork to malaga with ryanair our journey star...</td>\n",
       "    </tr>\n",
       "  </tbody>\n",
       "</table>\n",
       "<p>1303 rows × 1 columns</p>\n",
       "</div>"
      ],
      "text/plain": [
       "                                            air_reviews\n",
       "0      really impressed you get what you pay for thi...\n",
       "1       i should like to review my flight from faro ...\n",
       "2      flight left the gate ahead of schedule fare w...\n",
       "3      booked a fight from copenhagen to poland thou...\n",
       "4       the flight itself is operated by malta air a...\n",
       "...                                                 ...\n",
       "1364    i flew ryanair from london luton to malta in...\n",
       "1365    first flight from athens to thessaloniki ful...\n",
       "1366    gladub day return tickets a bargain at  for ...\n",
       "1367    seville to dublin with ryanair loud creaking...\n",
       "1369    cork to malaga with ryanair our journey star...\n",
       "\n",
       "[1303 rows x 1 columns]"
      ]
     },
     "execution_count": 9,
     "metadata": {},
     "output_type": "execute_result"
    }
   ],
   "source": [
    "df2"
   ]
  },
  {
   "cell_type": "markdown",
   "metadata": {},
   "source": [
    "## <div style=\"padding: 20px;color:white;margin:10;font-size:90%;text-align:left;display:fill;border-radius:10px;overflow:hidden;background-image: url(https://w0.peakpx.com/wallpaper/957/661/HD-wallpaper-white-marble-white-stone-texture-marble-stone-background-white-stone.jpg)\"><b><span style='color:black'> Sentiment analysis</span></b> </div>\n",
    "\n",
    "After preprocessing by removing all numericals and lowercasing the data, the data is now ready for modelling purposes. Starting off with the **Sentiment analysis**, polarity scores are usually generated with the compound score denoting the overall score of the sentiment. "
   ]
  },
  {
   "cell_type": "code",
   "execution_count": 10,
   "metadata": {},
   "outputs": [
    {
     "data": {
      "text/html": [
       "<div>\n",
       "<style scoped>\n",
       "    .dataframe tbody tr th:only-of-type {\n",
       "        vertical-align: middle;\n",
       "    }\n",
       "\n",
       "    .dataframe tbody tr th {\n",
       "        vertical-align: top;\n",
       "    }\n",
       "\n",
       "    .dataframe thead th {\n",
       "        text-align: right;\n",
       "    }\n",
       "</style>\n",
       "<table border=\"1\" class=\"dataframe\">\n",
       "  <thead>\n",
       "    <tr style=\"text-align: right;\">\n",
       "      <th></th>\n",
       "      <th>neg</th>\n",
       "      <th>neu</th>\n",
       "      <th>pos</th>\n",
       "      <th>compound</th>\n",
       "    </tr>\n",
       "  </thead>\n",
       "  <tbody>\n",
       "    <tr>\n",
       "      <th>0</th>\n",
       "      <td>0.067</td>\n",
       "      <td>0.715</td>\n",
       "      <td>0.218</td>\n",
       "      <td>0.8455</td>\n",
       "    </tr>\n",
       "    <tr>\n",
       "      <th>1</th>\n",
       "      <td>0.047</td>\n",
       "      <td>0.888</td>\n",
       "      <td>0.065</td>\n",
       "      <td>0.5605</td>\n",
       "    </tr>\n",
       "    <tr>\n",
       "      <th>2</th>\n",
       "      <td>0.000</td>\n",
       "      <td>0.780</td>\n",
       "      <td>0.220</td>\n",
       "      <td>0.8402</td>\n",
       "    </tr>\n",
       "    <tr>\n",
       "      <th>3</th>\n",
       "      <td>0.097</td>\n",
       "      <td>0.880</td>\n",
       "      <td>0.023</td>\n",
       "      <td>-0.9110</td>\n",
       "    </tr>\n",
       "    <tr>\n",
       "      <th>4</th>\n",
       "      <td>0.116</td>\n",
       "      <td>0.759</td>\n",
       "      <td>0.125</td>\n",
       "      <td>0.5172</td>\n",
       "    </tr>\n",
       "    <tr>\n",
       "      <th>...</th>\n",
       "      <td>...</td>\n",
       "      <td>...</td>\n",
       "      <td>...</td>\n",
       "      <td>...</td>\n",
       "    </tr>\n",
       "    <tr>\n",
       "      <th>1298</th>\n",
       "      <td>0.039</td>\n",
       "      <td>0.917</td>\n",
       "      <td>0.044</td>\n",
       "      <td>0.0772</td>\n",
       "    </tr>\n",
       "    <tr>\n",
       "      <th>1299</th>\n",
       "      <td>0.023</td>\n",
       "      <td>0.921</td>\n",
       "      <td>0.056</td>\n",
       "      <td>0.5854</td>\n",
       "    </tr>\n",
       "    <tr>\n",
       "      <th>1300</th>\n",
       "      <td>0.032</td>\n",
       "      <td>0.852</td>\n",
       "      <td>0.116</td>\n",
       "      <td>0.9339</td>\n",
       "    </tr>\n",
       "    <tr>\n",
       "      <th>1301</th>\n",
       "      <td>0.075</td>\n",
       "      <td>0.883</td>\n",
       "      <td>0.043</td>\n",
       "      <td>-0.6124</td>\n",
       "    </tr>\n",
       "    <tr>\n",
       "      <th>1302</th>\n",
       "      <td>0.061</td>\n",
       "      <td>0.827</td>\n",
       "      <td>0.112</td>\n",
       "      <td>0.8338</td>\n",
       "    </tr>\n",
       "  </tbody>\n",
       "</table>\n",
       "<p>1303 rows × 4 columns</p>\n",
       "</div>"
      ],
      "text/plain": [
       "        neg    neu    pos  compound\n",
       "0     0.067  0.715  0.218    0.8455\n",
       "1     0.047  0.888  0.065    0.5605\n",
       "2     0.000  0.780  0.220    0.8402\n",
       "3     0.097  0.880  0.023   -0.9110\n",
       "4     0.116  0.759  0.125    0.5172\n",
       "...     ...    ...    ...       ...\n",
       "1298  0.039  0.917  0.044    0.0772\n",
       "1299  0.023  0.921  0.056    0.5854\n",
       "1300  0.032  0.852  0.116    0.9339\n",
       "1301  0.075  0.883  0.043   -0.6124\n",
       "1302  0.061  0.827  0.112    0.8338\n",
       "\n",
       "[1303 rows x 4 columns]"
      ]
     },
     "execution_count": 10,
     "metadata": {},
     "output_type": "execute_result"
    }
   ],
   "source": [
    "# Initialize the sentiment analyzer and get their respective polarity scores. \n",
    "st_analyze = SentimentIntensityAnalyzer()\n",
    "\n",
    "sentiments = []\n",
    "\n",
    "for row in df2['air_reviews']:\n",
    "    r = st_analyze.polarity_scores(row)\n",
    "    sentiments.append(r)\n",
    "\n",
    "\n",
    "df3 = pd.DataFrame(sentiments)\n",
    "df3"
   ]
  },
  {
   "cell_type": "code",
   "execution_count": 11,
   "metadata": {},
   "outputs": [],
   "source": [
    "df_final = pd.concat([df2.reset_index(drop=True), df3], axis=1)"
   ]
  },
  {
   "cell_type": "code",
   "execution_count": 12,
   "metadata": {},
   "outputs": [],
   "source": [
    "# Function to categorize the sentiments into positive, negative and neutral. \n",
    "def categorize_sentiment(data):\n",
    "    if data['compound'] > 0:\n",
    "        return \"positive\"\n",
    "    elif data['compound'] < 0:\n",
    "        return \"negative\"\n",
    "    else:\n",
    "        return \"neutral\""
   ]
  },
  {
   "cell_type": "code",
   "execution_count": 13,
   "metadata": {},
   "outputs": [],
   "source": [
    "df_final['sentiment'] = df_final.apply(categorize_sentiment, axis=1)"
   ]
  },
  {
   "cell_type": "code",
   "execution_count": 14,
   "metadata": {},
   "outputs": [
    {
     "data": {
      "text/html": [
       "<div>\n",
       "<style scoped>\n",
       "    .dataframe tbody tr th:only-of-type {\n",
       "        vertical-align: middle;\n",
       "    }\n",
       "\n",
       "    .dataframe tbody tr th {\n",
       "        vertical-align: top;\n",
       "    }\n",
       "\n",
       "    .dataframe thead th {\n",
       "        text-align: right;\n",
       "    }\n",
       "</style>\n",
       "<table border=\"1\" class=\"dataframe\">\n",
       "  <thead>\n",
       "    <tr style=\"text-align: right;\">\n",
       "      <th></th>\n",
       "      <th>air_reviews</th>\n",
       "      <th>neg</th>\n",
       "      <th>neu</th>\n",
       "      <th>pos</th>\n",
       "      <th>compound</th>\n",
       "      <th>sentiment</th>\n",
       "    </tr>\n",
       "  </thead>\n",
       "  <tbody>\n",
       "    <tr>\n",
       "      <th>0</th>\n",
       "      <td>really impressed you get what you pay for thi...</td>\n",
       "      <td>0.067</td>\n",
       "      <td>0.715</td>\n",
       "      <td>0.218</td>\n",
       "      <td>0.8455</td>\n",
       "      <td>positive</td>\n",
       "    </tr>\n",
       "    <tr>\n",
       "      <th>1</th>\n",
       "      <td>i should like to review my flight from faro ...</td>\n",
       "      <td>0.047</td>\n",
       "      <td>0.888</td>\n",
       "      <td>0.065</td>\n",
       "      <td>0.5605</td>\n",
       "      <td>positive</td>\n",
       "    </tr>\n",
       "    <tr>\n",
       "      <th>2</th>\n",
       "      <td>flight left the gate ahead of schedule fare w...</td>\n",
       "      <td>0.000</td>\n",
       "      <td>0.780</td>\n",
       "      <td>0.220</td>\n",
       "      <td>0.8402</td>\n",
       "      <td>positive</td>\n",
       "    </tr>\n",
       "    <tr>\n",
       "      <th>3</th>\n",
       "      <td>booked a fight from copenhagen to poland thou...</td>\n",
       "      <td>0.097</td>\n",
       "      <td>0.880</td>\n",
       "      <td>0.023</td>\n",
       "      <td>-0.9110</td>\n",
       "      <td>negative</td>\n",
       "    </tr>\n",
       "    <tr>\n",
       "      <th>4</th>\n",
       "      <td>the flight itself is operated by malta air a...</td>\n",
       "      <td>0.116</td>\n",
       "      <td>0.759</td>\n",
       "      <td>0.125</td>\n",
       "      <td>0.5172</td>\n",
       "      <td>positive</td>\n",
       "    </tr>\n",
       "    <tr>\n",
       "      <th>...</th>\n",
       "      <td>...</td>\n",
       "      <td>...</td>\n",
       "      <td>...</td>\n",
       "      <td>...</td>\n",
       "      <td>...</td>\n",
       "      <td>...</td>\n",
       "    </tr>\n",
       "    <tr>\n",
       "      <th>1298</th>\n",
       "      <td>i flew ryanair from london luton to malta in...</td>\n",
       "      <td>0.039</td>\n",
       "      <td>0.917</td>\n",
       "      <td>0.044</td>\n",
       "      <td>0.0772</td>\n",
       "      <td>positive</td>\n",
       "    </tr>\n",
       "    <tr>\n",
       "      <th>1299</th>\n",
       "      <td>first flight from athens to thessaloniki ful...</td>\n",
       "      <td>0.023</td>\n",
       "      <td>0.921</td>\n",
       "      <td>0.056</td>\n",
       "      <td>0.5854</td>\n",
       "      <td>positive</td>\n",
       "    </tr>\n",
       "    <tr>\n",
       "      <th>1300</th>\n",
       "      <td>gladub day return tickets a bargain at  for ...</td>\n",
       "      <td>0.032</td>\n",
       "      <td>0.852</td>\n",
       "      <td>0.116</td>\n",
       "      <td>0.9339</td>\n",
       "      <td>positive</td>\n",
       "    </tr>\n",
       "    <tr>\n",
       "      <th>1301</th>\n",
       "      <td>seville to dublin with ryanair loud creaking...</td>\n",
       "      <td>0.075</td>\n",
       "      <td>0.883</td>\n",
       "      <td>0.043</td>\n",
       "      <td>-0.6124</td>\n",
       "      <td>negative</td>\n",
       "    </tr>\n",
       "    <tr>\n",
       "      <th>1302</th>\n",
       "      <td>cork to malaga with ryanair our journey star...</td>\n",
       "      <td>0.061</td>\n",
       "      <td>0.827</td>\n",
       "      <td>0.112</td>\n",
       "      <td>0.8338</td>\n",
       "      <td>positive</td>\n",
       "    </tr>\n",
       "  </tbody>\n",
       "</table>\n",
       "<p>1303 rows × 6 columns</p>\n",
       "</div>"
      ],
      "text/plain": [
       "                                            air_reviews    neg    neu    pos  \\\n",
       "0      really impressed you get what you pay for thi...  0.067  0.715  0.218   \n",
       "1       i should like to review my flight from faro ...  0.047  0.888  0.065   \n",
       "2      flight left the gate ahead of schedule fare w...  0.000  0.780  0.220   \n",
       "3      booked a fight from copenhagen to poland thou...  0.097  0.880  0.023   \n",
       "4       the flight itself is operated by malta air a...  0.116  0.759  0.125   \n",
       "...                                                 ...    ...    ...    ...   \n",
       "1298    i flew ryanair from london luton to malta in...  0.039  0.917  0.044   \n",
       "1299    first flight from athens to thessaloniki ful...  0.023  0.921  0.056   \n",
       "1300    gladub day return tickets a bargain at  for ...  0.032  0.852  0.116   \n",
       "1301    seville to dublin with ryanair loud creaking...  0.075  0.883  0.043   \n",
       "1302    cork to malaga with ryanair our journey star...  0.061  0.827  0.112   \n",
       "\n",
       "      compound sentiment  \n",
       "0       0.8455  positive  \n",
       "1       0.5605  positive  \n",
       "2       0.8402  positive  \n",
       "3      -0.9110  negative  \n",
       "4       0.5172  positive  \n",
       "...        ...       ...  \n",
       "1298    0.0772  positive  \n",
       "1299    0.5854  positive  \n",
       "1300    0.9339  positive  \n",
       "1301   -0.6124  negative  \n",
       "1302    0.8338  positive  \n",
       "\n",
       "[1303 rows x 6 columns]"
      ]
     },
     "execution_count": 14,
     "metadata": {},
     "output_type": "execute_result"
    }
   ],
   "source": [
    "df_final"
   ]
  },
  {
   "cell_type": "code",
   "execution_count": 15,
   "metadata": {},
   "outputs": [
    {
     "name": "stderr",
     "output_type": "stream",
     "text": [
      "C:\\Users\\user\\AppData\\Local\\Packages\\PythonSoftwareFoundation.Python.3.10_qbz5n2kfra8p0\\LocalCache\\local-packages\\Python310\\site-packages\\seaborn\\_oldcore.py:1498: DeprecationWarning: is_categorical_dtype is deprecated and will be removed in a future version. Use isinstance(dtype, pd.CategoricalDtype) instead\n",
      "  if pd.api.types.is_categorical_dtype(vector):\n",
      "C:\\Users\\user\\AppData\\Local\\Packages\\PythonSoftwareFoundation.Python.3.10_qbz5n2kfra8p0\\LocalCache\\local-packages\\Python310\\site-packages\\seaborn\\_oldcore.py:1498: DeprecationWarning: is_categorical_dtype is deprecated and will be removed in a future version. Use isinstance(dtype, pd.CategoricalDtype) instead\n",
      "  if pd.api.types.is_categorical_dtype(vector):\n",
      "C:\\Users\\user\\AppData\\Local\\Packages\\PythonSoftwareFoundation.Python.3.10_qbz5n2kfra8p0\\LocalCache\\local-packages\\Python310\\site-packages\\seaborn\\_oldcore.py:1498: DeprecationWarning: is_categorical_dtype is deprecated and will be removed in a future version. Use isinstance(dtype, pd.CategoricalDtype) instead\n",
      "  if pd.api.types.is_categorical_dtype(vector):\n"
     ]
    },
    {
     "data": {
      "image/png": "[encoded data removed]",
      "text/plain": [
       "<Figure size 640x480 with 1 Axes>"
      ]
     },
     "metadata": {},
     "output_type": "display_data"
    }
   ],
   "source": [
    "# Plot the counts of various sentiments.     \n",
    "sns.countplot(data=df_final, x='sentiment')\n",
    "plt.title(\"Sentiments Count\")\n",
    "plt.show()"
   ]
  },
  {
   "cell_type": "markdown",
   "metadata": {},
   "source": [
    "From the **Sentiment analysis**, it is clear that the number of ngative sentiments exceeds the positive sentiments by almost 230. The number of neutral sentiments is way much less than the postives or negatives. "
   ]
  },
  {
   "cell_type": "markdown",
   "metadata": {},
   "source": [
    "## <div style=\"padding: 20px;color:white;margin:10;font-size:90%;text-align:left;display:fill;border-radius:10px;overflow:hidden;background-image: url(https://w0.peakpx.com/wallpaper/957/661/HD-wallpaper-white-marble-white-stone-texture-marble-stone-background-white-stone.jpg)\"><b><span style='color:black'> Topic modelling</span></b> </div>\n",
    "\n",
    "**Topic Modelling** is a form of **Natural Language Processing** where words or phrase patterns are recognized from topics present in the document or review. These phrase patterns are later clustered into word groups and similar expressions thta best characterize a set of documents. \n",
    "\n",
    "To do the topic modelling, stopwords have to be removed as they may affect the kind of topics under investigation. \n",
    "\n",
    "This process will eventually help in identifying which sectors of the airline needs improvement. This will eventually help in adressing objective 2. The areas that need improvements will be passed on to the necessary stakeholders and shareholders for further action. "
   ]
  },
  {
   "cell_type": "code",
   "execution_count": 29,
   "metadata": {},
   "outputs": [],
   "source": [
    "text_list = df_final['air_reviews']"
   ]
  },
  {
   "cell_type": "code",
   "execution_count": 30,
   "metadata": {},
   "outputs": [
    {
     "name": "stderr",
     "output_type": "stream",
     "text": [
      "[nltk_data] Downloading package stopwords to\n",
      "[nltk_data]     C:\\Users\\user\\AppData\\Roaming\\nltk_data...\n",
      "[nltk_data]   Package stopwords is already up-to-date!\n"
     ]
    }
   ],
   "source": [
    "# Remove all English stopwords. \n",
    "nltk.download('stopwords')\n",
    "stop_words = set(stopwords.words(\"english\"))\n",
    "\n",
    "def remove_stopwords(text):\n",
    "    return \" \".join([word for word in str(text).split() if word not in stop_words])\n",
    "\n",
    "text_list_fin = text_list.apply(lambda x: remove_stopwords(x)) "
   ]
  },
  {
   "cell_type": "code",
   "execution_count": 31,
   "metadata": {},
   "outputs": [],
   "source": [
    "# Create tokens for every word in the text. \n",
    "import gensim.corpora as corpora \n",
    "tokens = [word for word in text_list_fin.str.split()]\n",
    "dict = corpora.Dictionary(tokens)\n",
    "\n",
    "corpus = [dict.doc2bow(text) for text in tokens]"
   ]
  },
  {
   "cell_type": "code",
   "execution_count": 37,
   "metadata": {},
   "outputs": [
    {
     "data": {
      "text/plain": [
       "[(0,\n",
       "  '0.022*\"flight\" + 0.019*\"ryanair\" + 0.014*\"crew\" + 0.014*\"time\" + 0.013*\"cabin\" + 0.011*\"boarding\" + 0.010*\"seats\" + 0.009*\"seat\" + 0.009*\"plane\" + 0.008*\"priority\"'),\n",
       " (1,\n",
       "  '0.018*\"flight\" + 0.018*\"ryanair\" + 0.016*\"check\" + 0.014*\"airport\" + 0.011*\"us\" + 0.011*\"boarding\" + 0.009*\"time\" + 0.009*\"pay\" + 0.008*\"get\" + 0.008*\"airline\"'),\n",
       " (2,\n",
       "  '0.031*\"flight\" + 0.021*\"ryanair\" + 0.010*\"service\" + 0.009*\"customer\" + 0.008*\"hours\" + 0.008*\"us\" + 0.007*\"never\" + 0.007*\"staff\" + 0.007*\"airline\" + 0.006*\"would\"'),\n",
       " (3,\n",
       "  '0.009*\"car\" + 0.009*\"barcode\" + 0.007*\"hire\" + 0.006*\"mobile\" + 0.005*\"ryanairs\" + 0.005*\"printing\" + 0.005*\"printed\" + 0.005*\"passes\" + 0.004*\"far\" + 0.004*\"nickel\"'),\n",
       " (4,\n",
       "  '0.020*\"pay\" + 0.019*\"seats\" + 0.014*\"ryanair\" + 0.011*\"bag\" + 0.011*\"extra\" + 0.010*\"seat\" + 0.010*\"luggage\" + 0.010*\"airline\" + 0.009*\"sit\" + 0.008*\"next\"'),\n",
       " (5,\n",
       "  '0.026*\"flight\" + 0.014*\"ryanair\" + 0.012*\"crew\" + 0.008*\"minutes\" + 0.007*\"cabin\" + 0.007*\"flew\" + 0.006*\"dublin\" + 0.006*\"great\" + 0.006*\"time\" + 0.005*\"schedule\"'),\n",
       " (6,\n",
       "  '0.017*\"flight\" + 0.012*\"ryanair\" + 0.011*\"airline\" + 0.010*\"check\" + 0.009*\"service\" + 0.008*\"customer\" + 0.008*\"fee\" + 0.007*\"website\" + 0.007*\"even\" + 0.006*\"charge\"')]"
      ]
     },
     "execution_count": 37,
     "metadata": {},
     "output_type": "execute_result"
    }
   ],
   "source": [
    "# Instantiate the topic modelling process.   \n",
    "from gensim.models import LdaModel    \n",
    "\n",
    "elda_model = LdaModel(corpus=corpus, id2word=dict, num_topics=7, random_state=42, chunksize=1000, passes=50, iterations=100)\n",
    "\n",
    "elda_model.print_topics()"
   ]
  },
  {
   "cell_type": "code",
   "execution_count": 38,
   "metadata": {},
   "outputs": [
    {
     "data": {
      "text/html": [
       "\n",
       "<link rel=\"stylesheet\" type=\"text/css\" href=\"https://cdn.jsdelivr.net/gh/bmabey/pyLDAvis@3.4.0/pyLDAvis/js/ldavis.v1.0.0.css\">\n",
       "\n",
       "\n",
       "<div id=\"ldavis_el1310018418811728965215921330\" style=\"background-color:white;\"></div>\n",
       "<script type=\"text/javascript\">\n",
       "\n",
       "var ldavis_el1310018418811728965215921330_data = {\"mdsDat\": {\"x\": [-0.1333016510779218, -0.09915436564308688, -0.10632526203072443, -0.07125776670904213, 0.038311265275125184, 0.10853655268275456, 0.26319122750289553], \"y\": [-0.017687336378980775, -0.029866912135967677, 0.12999980242535894, -0.07846560503091171, -0.15548271405107464, 0.20048321111630052, -0.048980445944724456], \"topics\": [1, 2, 3, 4, 5, 6, 7], \"cluster\": [1, 1, 1, 1, 1, 1, 1], \"Freq\": [30.77940842652982, 26.00641220755277, 23.16994146225892, 8.539440989360523, 5.712616657693846, 5.084462222211393, 0.7077180343927291]}, \"tinfo\": {\"Term\": [\"flight\", \"crew\", \"seats\", \"pay\", \"check\", \"cabin\", \"seat\", \"boarding\", \"customer\", \"bag\", \"airline\", \"minutes\", \"luggage\", \"ryanair\", \"extra\", \"passes\", \"fee\", \"sit\", \"website\", \"us\", \"hours\", \"use\", \"airport\", \"together\", \"good\", \"flew\", \"online\", \"refund\", \"priority\", \"next\", \"counter\", \"euro\", \"caused\", \"paris\", \"arrive\", \"belt\", \"slightly\", \"carryon\", \"apology\", \"groups\", \"tall\", \"beauvais\", \"representative\", \"test\", \"passes\", \"engineer\", \"agents\", \"manager\", \"easily\", \"toilets\", \"exact\", \"average\", \"unbelievably\", \"maximum\", \"final\", \"police\", \"ryan\", \"x\", \"tight\", \"pocket\", \"phone\", \"pass\", \"checkin\", \"print\", \"prior\", \"twice\", \"printed\", \"check\", \"stuck\", \"per\", \"line\", \"airport\", \"kg\", \"online\", \"desk\", \"person\", \"euros\", \"complaint\", \"gate\", \"checking\", \"us\", \"minutes\", \"boarding\", \"experience\", \"didnt\", \"get\", \"told\", \"worst\", \"said\", \"bags\", \"pay\", \"ryanair\", \"ticket\", \"could\", \"flight\", \"time\", \"airline\", \"one\", \"paid\", \"extra\", \"would\", \"staff\", \"never\", \"plane\", \"hours\", \"bag\", \"service\", \"luggage\", \"even\", \"cancelled\", \"contact\", \"cancellation\", \"october\", \"canceled\", \"alternative\", \"willing\", \"refunded\", \"zero\", \"refunds\", \"running\", \"respect\", \"account\", \"insurance\", \"fuel\", \"error\", \"compensation\", \"rebook\", \"claims\", \"bratislava\", \"ruined\", \"screen\", \"ages\", \"avoiding\", \"possibly\", \"naples\", \"language\", \"colleagues\", \"dealing\", \"refund\", \"simply\", \"live\", \"talk\", \"h\", \"support\", \"offered\", \"pounds\", \"customer\", \"water\", \"chat\", \"hotel\", \"provide\", \"lost\", \"days\", \"hours\", \"th\", \"week\", \"flight\", \"received\", \"help\", \"company\", \"delayed\", \"delay\", \"service\", \"ryanair\", \"due\", \"never\", \"told\", \"care\", \"back\", \"us\", \"fly\", \"money\", \"another\", \"staff\", \"would\", \"waiting\", \"stansted\", \"airline\", \"flights\", \"asked\", \"get\", \"even\", \"hour\", \"airport\", \"one\", \"time\", \"pay\", \"plane\", \"safety\", \"split\", \"boeing\", \"ponta\", \"interior\", \"comfort\", \"carrier\", \"delgada\", \"assigned\", \"older\", \"rear\", \"tag\", \"products\", \"recline\", \"carrying\", \"storage\", \"highly\", \"warm\", \"splitting\", \"basic\", \"store\", \"reasonably\", \"comments\", \"avoided\", \"perfect\", \"lots\", \"tea\", \"constant\", \"checks\", \"turbulence\", \"comfortable\", \"clean\", \"happy\", \"professional\", \"friendly\", \"efficient\", \"row\", \"cabin\", \"crew\", \"quite\", \"easy\", \"legroom\", \"good\", \"priority\", \"seat\", \"bit\", \"quick\", \"board\", \"pleasant\", \"room\", \"hand\", \"seats\", \"really\", \"leg\", \"aircraft\", \"landing\", \"low\", \"passengers\", \"time\", \"boarding\", \"flight\", \"ryanair\", \"plane\", \"flights\", \"well\", \"luggage\", \"together\", \"staff\", \"food\", \"would\", \"return\", \"one\", \"gate\", \"people\", \"service\", \"minutes\", \"fly\", \"e\", \"midlands\", \"tel\", \"aviv\", \"stored\", \"wizz\", \"silly\", \"bremen\", \"mother\", \"switch\", \"allocate\", \"nuts\", \"intentionally\", \"marks\", \"proved\", \"por\", \"soft\", \"magazines\", \"scratch\", \"lockers\", \"adult\", \"di\", \"equal\", \"lap\", \"polish\", \"com\", \"prestwick\", \"letters\", \"assisted\", \"gbp\", \"con\", \"east\", \"separated\", \"riga\", \"que\", \"greedy\", \"trolley\", \"la\", \"children\", \"partner\", \"family\", \"sit\", \"cm\", \"seats\", \"seated\", \"allocated\", \"apart\", \"ends\", \"beside\", \"hidden\", \"pay\", \"bag\", \"together\", \"next\", \"seat\", \"extra\", \"luggage\", \"money\", \"husband\", \"want\", \"small\", \"airline\", \"travelling\", \"ryanair\", \"even\", \"us\", \"one\", \"never\", \"flew\", \"staff\", \"would\", \"plane\", \"people\", \"stansted\", \"booking\", \"also\", \"fly\", \"cabin\", \"cost\", \"flying\", \"directly\", \"santorini\", \"rental\", \"dec\", \"update\", \"event\", \"dollars\", \"mistakes\", \"rented\", \"transparency\", \"pax\", \"turns\", \"marrakesh\", \"sad\", \"paste\", \"knows\", \"attempt\", \"unnecessary\", \"virus\", \"loyal\", \"rudest\", \"wants\", \"express\", \"abroad\", \"exception\", \"marked\", \"restriction\", \"expectation\", \"seemingly\", \"relevant\", \"malta\", \"higher\", \"reminder\", \"web\", \"period\", \"transfer\", \"dreadful\", \"strict\", \"lowcost\", \"car\", \"bookings\", \"address\", \"fee\", \"website\", \"change\", \"email\", \"charge\", \"luton\", \"charged\", \"booking\", \"customer\", \"airline\", \"cannot\", \"check\", \"flight\", \"exactly\", \"service\", \"company\", \"booked\", \"ryanair\", \"even\", \"still\", \"one\", \"paid\", \"pay\", \"online\", \"euros\", \"dont\", \"get\", \"hours\", \"extra\", \"time\", \"bucharest\", \"improved\", \"beverages\", \"stn\", \"gift\", \"speedy\", \"deck\", \"loud\", \"miserable\", \"lottery\", \"canaria\", \"gran\", \"requires\", \"customs\", \"packed\", \"generous\", \"poitiers\", \"wind\", \"lounge\", \"finish\", \"frs\", \"ideal\", \"considerably\", \"equipment\", \"driver\", \"nue\", \"informative\", \"somewhat\", \"balance\", \"sch\\u00f6nefeld\", \"bargain\", \"sell\", \"pilot\", \"schedule\", \"ontime\", \"cold\", \"serious\", \"glasgow\", \"start\", \"legs\", \"crew\", \"flight\", \"great\", \"flew\", \"value\", \"minutes\", \"dublin\", \"ryanair\", \"cabin\", \"pick\", \"aircraft\", \"journey\", \"onboard\", \"departure\", \"left\", \"mins\", \"time\", \"boarding\", \"late\", \"return\", \"back\", \"plane\", \"use\", \"really\", \"get\", \"nickel\", \"ema\", \"wing\", \"messy\", \"adverts\", \"fuelled\", \"indicator\", \"dime\", \"digital\", \"barcode\", \"partly\", \"strategies\", \"luxury\", \"beautifully\", \"glance\", \"waiver\", \"stacked\", \"timely\", \"q\", \"bugs\", \"justification\", \"breathe\", \"permit\", \"accent\", \"settled\", \"assigning\", \"barcodes\", \"blur\", \"braces\", \"colourful\", \"hire\", \"photograph\", \"interesting\", \"absent\", \"logged\", \"encounters\", \"car\", \"mobile\", \"printing\", \"damage\", \"printed\", \"approach\", \"ie\", \"ryanairs\", \"passes\", \"far\", \"unlike\", \"customers\", \"problem\", \"use\", \"app\", \"boarding\", \"return\"], \"Freq\": [1762.0, 333.0, 375.0, 533.0, 537.0, 322.0, 273.0, 531.0, 307.0, 246.0, 547.0, 285.0, 324.0, 1501.0, 290.0, 73.0, 121.0, 123.0, 130.0, 539.0, 322.0, 145.0, 499.0, 126.0, 214.0, 167.0, 245.0, 142.0, 222.0, 185.0, 84.68430189480617, 107.99424723736044, 36.359815284634514, 35.12477915365998, 28.263495531774915, 22.41470563104117, 21.103633355101728, 18.388560384637845, 17.67940457304592, 17.48449510250681, 16.837420039686034, 15.734152008418063, 15.907451677914693, 14.953671603948058, 69.8817286010921, 13.272101634454483, 12.828833316817434, 14.091650276631112, 12.20861141199055, 12.121234827055096, 17.376505850649973, 11.592928521436276, 11.49226279022169, 11.481290580304849, 20.596597750232522, 11.154812436883391, 11.07112786240532, 11.071180893508389, 11.068949852594733, 11.063648983038584, 71.62930511481788, 94.3809868069375, 200.90758407541858, 54.890006060316026, 30.685980221346735, 27.197307445306922, 31.06770557041278, 419.2404895053214, 21.88361930055438, 56.62651625258994, 102.26449797159651, 350.43961545182236, 47.862354158180636, 181.9528636344073, 83.2779887454211, 61.19385959107666, 98.1090703650784, 41.95348225841961, 166.16306332594536, 61.46631696647664, 281.50455926305165, 165.06023149417308, 270.9315376134423, 136.33262268666994, 141.8976558524651, 210.10190460125253, 160.55833003070842, 101.56671023590208, 101.58621373116067, 104.34469153911178, 231.30770125604286, 450.94203477029583, 115.21906131153999, 134.36876890245264, 461.0801714980548, 241.33213929882015, 208.4142308264873, 161.7022841217851, 116.42401162798421, 125.23501437782612, 144.94734761413014, 143.09696545214337, 121.34883539151379, 130.09605740961854, 116.57874891757251, 110.43940235003615, 120.04366674710482, 112.12945430835312, 110.87677301147828, 91.8349531492703, 43.34630286504775, 29.617190173361383, 27.428892240011525, 26.24769552957374, 25.34458812541451, 22.330284526087965, 20.700114016540887, 18.969062232626882, 18.97157902642474, 17.602648936291814, 15.786637060040063, 15.694543106847, 28.34730488067669, 15.469316567791077, 14.156151004630667, 45.95259556692784, 13.781844191830265, 13.241495884093998, 13.239944660634837, 13.223364618845132, 12.692802019391111, 12.599180824224423, 12.501819779497527, 12.057960347724705, 12.056216010197804, 12.053182983369192, 11.969201083204634, 11.961985180425115, 135.15860234577042, 39.19019530073536, 21.360059254829967, 19.163189833676064, 31.650017398163076, 26.73280059210204, 46.97953326492876, 22.843273745377697, 203.92078145744784, 44.863169690720106, 31.57300148845508, 39.23826934395143, 30.535491741883014, 41.975117253090964, 80.20076710809008, 177.80998234478272, 45.504626465844176, 31.070049151954, 675.8709641786795, 56.1233707758795, 78.22023466795883, 98.24221033397276, 111.34998545471653, 101.57077994160105, 208.74567459292805, 464.9511432532349, 95.88780400996423, 147.00983850162217, 137.22319115488972, 42.68574168123542, 126.57757243485239, 170.0349928820407, 127.48904054217964, 112.61580399232766, 100.23576345856675, 144.05499636459106, 140.66088409480872, 70.24435608742986, 113.07630909942955, 142.53330799814248, 105.35869344755788, 80.2501487733596, 116.10099541980985, 107.42266631115393, 90.07579253994089, 109.69751468798763, 104.94384908891703, 115.06687337361565, 103.32555824999456, 92.43015847407906, 28.247638730632314, 18.127561827299225, 17.270080878294742, 15.939818212363399, 15.863769210264763, 15.607327045294845, 15.474664110939512, 15.473829717499559, 15.822358781118814, 14.6075865128561, 14.210662629719533, 14.140325061962573, 14.054717644446677, 13.744617908882649, 13.210445301029385, 12.806847394892648, 12.794581136613653, 12.279210494145868, 11.807087745623068, 11.481149153452911, 11.414420168645833, 10.54933072096921, 10.48246566930737, 10.46097722692991, 13.19534975178688, 10.150028479172937, 9.618960669551091, 9.613101923160041, 9.550653983940434, 9.151328127235482, 57.627686550656016, 57.66812876854617, 44.52810087615546, 34.055291455458445, 96.08968414525835, 66.19296686278958, 39.6380020544521, 258.9293321326565, 265.2670698370957, 68.28584601600775, 26.371330780380013, 43.164639022181326, 159.45192965578497, 163.14118113370938, 183.30568626720498, 59.79210763197373, 44.69006316506334, 133.74124956057886, 40.864295024591264, 51.02856104465807, 85.75673570798558, 195.19304446098272, 103.43974125682539, 42.13259554371009, 94.22816362591627, 45.10205111089751, 81.54021054910025, 124.23117048782495, 264.59406743016376, 213.61643362284883, 423.90482941091096, 367.57345740818255, 164.79388288724869, 124.61555822801192, 69.3753794273957, 118.50724948205402, 69.43342712196498, 123.38250014879627, 68.59108557846197, 111.37134585661201, 74.20386807687778, 94.6590345025371, 78.91141690738395, 76.39845776629129, 81.0634502823209, 76.30774952850096, 74.85532918901758, 16.23298040398601, 15.709603796287071, 9.476180043293468, 9.01739702727184, 8.08676257778169, 7.642583928561847, 6.397056652155873, 6.333904515377721, 6.333366974548448, 5.875013328071253, 5.87095379651942, 5.865435817644372, 5.4818032475816585, 5.477282848333488, 5.476860524428299, 5.157362750593395, 5.087966934098208, 5.015516625766676, 5.016249372247906, 5.001850986781625, 8.156085865637614, 4.56615362941239, 4.553007295484455, 4.550631257262234, 4.531543791655329, 4.238608077764981, 7.885188496848716, 4.170734948244928, 4.16952641389014, 4.165298615895221, 7.694592350754428, 14.912473434760415, 14.980945443616088, 8.814227316275105, 9.4601914156052, 6.780448841585605, 14.276427937686416, 11.11844477875337, 24.505742884379615, 18.171167789925747, 42.236372548327104, 61.267459778911984, 9.430795350887653, 138.30089178364668, 20.262015113581477, 27.07703815027856, 25.76700846105606, 10.69686522462881, 12.087537642824504, 15.545500082643649, 143.8495531742481, 79.74915624391681, 48.107611486011166, 60.001346802436636, 74.68707830399082, 76.17005771415049, 74.14680210889448, 58.1752033162262, 16.135283083552082, 32.53366194100468, 32.41114076127228, 73.87831186203034, 22.23625462107617, 102.74339068149543, 51.58744773453297, 58.861823240682234, 52.927869824751795, 45.79048807023795, 34.42203251300565, 52.123038993982355, 46.14901992882489, 44.89588087534072, 36.671063555543554, 39.089896161625305, 29.279962529612973, 32.12071122270545, 35.42962523659449, 32.59853487155549, 30.669810193567915, 30.634989815532315, 14.104403956348323, 12.852161665784797, 12.721421089127293, 7.828400471946255, 7.82932594430772, 6.369984121419927, 6.120016199166086, 6.052046936027159, 5.91835139099683, 5.908927542714572, 5.889718862023445, 5.522309661564686, 10.34262219787098, 5.120384057220917, 5.0615369904980785, 5.056879685306982, 6.244332256482711, 4.663537850978474, 4.659239866392668, 4.598531319311868, 4.5956074033370315, 4.591738884505541, 4.197691994390574, 4.194771682711933, 4.194412362106642, 4.130940706112016, 4.130267811737757, 4.127630298683649, 4.127396296684526, 4.127785837927143, 13.944453054312014, 7.294048589339919, 6.411623723600545, 14.6514274353622, 11.580288714621771, 17.01087957365776, 5.905235079889532, 8.852373812364286, 12.419781422114275, 22.387942752647678, 7.067937226347485, 8.03102790445314, 36.102819883563164, 33.8152473925246, 26.159873100196034, 28.853528889866126, 30.44096518149716, 11.950965625461661, 25.72250451059158, 29.23769363157496, 39.60140262570823, 52.09396865067801, 16.672155580347543, 48.67215852650147, 80.06307201316297, 10.571608125705735, 42.65291733993445, 26.126777898026084, 24.730085397093344, 57.956594849964006, 31.797691028190886, 22.649539243440927, 30.05881219157226, 24.22457010207574, 25.941308578928904, 21.00485120203369, 18.080984023822534, 19.63790246231662, 21.159059628470644, 20.012491975303003, 19.282989079512507, 15.134824550898616, 17.161432046258817, 10.467774783067178, 10.459439981207492, 10.127347875324215, 9.733168207648408, 8.258866227939764, 8.195795546458431, 7.4635594147471505, 7.398178007169949, 7.009067427006035, 6.669987867029352, 6.669987867029352, 6.611328392264142, 6.6011280319588375, 6.330624525013984, 6.216423723171242, 6.2148217118711155, 5.872901863837677, 5.858089428486258, 5.534651934481916, 5.082909424545177, 5.08184339114768, 5.080522694216337, 5.08095552351708, 4.74178860802588, 4.686712189957811, 4.685527708405037, 4.684632437764733, 4.684431569434741, 4.343528401400767, 7.97616552220522, 15.113640126677579, 15.576533543365725, 22.278362742203544, 8.948595264993829, 14.527653412889242, 7.9508255135195425, 14.033982230120225, 15.949472495596412, 11.65353261471426, 49.91340116904103, 109.52048881437263, 24.39644475833027, 28.146390957985535, 13.791049011918126, 32.65236014660169, 24.969877941795126, 57.50459735471122, 30.73639608850439, 8.85419899471347, 20.78093918905077, 13.73519478429707, 12.68090453432829, 16.680994483638166, 16.588727318948916, 14.623300298275739, 24.168623550605645, 20.050850423687873, 15.983193698335926, 15.350841441232213, 16.157954080768118, 16.592355780772248, 14.087105240694177, 14.245502010474796, 15.572047319484593, 2.447511085334689, 2.4471923352726326, 1.9991623315599663, 1.9896668771251182, 1.7789791313655832, 1.778918816159875, 1.778918816159875, 1.5865407884046583, 1.585616962793767, 5.032562272877676, 1.3624501521047208, 1.3594576111126293, 1.3701979768889831, 1.1394100170868882, 1.13915817705941, 1.1389470051432975, 1.1386424751809923, 1.1370011184498037, 1.13641651434892, 1.1350829849944715, 1.13329874030443, 1.1263275253157599, 1.1255067439059645, 1.1246299751469069, 0.9482154176331903, 0.915982023696131, 0.915982023696131, 0.915982023696131, 0.915982023696131, 0.915982023696131, 4.043293702047232, 1.3632089696015905, 1.681315348881891, 1.7791808232151947, 1.1329164463183643, 1.7700083780027152, 5.231597505592758, 3.379266703157768, 2.8254634757274344, 1.77922080436522, 2.7736446078803563, 1.7485489422515672, 1.750294785802667, 2.8656977023105137, 2.669287211485746, 2.535158834079597, 1.3286416245097104, 2.2222684148665, 2.0984804543441853, 1.8507906351092773, 1.7200515875655729, 1.7961539892351661, 1.5367472199820518], \"Total\": [1762.0, 333.0, 375.0, 533.0, 537.0, 322.0, 273.0, 531.0, 307.0, 246.0, 547.0, 285.0, 324.0, 1501.0, 290.0, 73.0, 121.0, 123.0, 130.0, 539.0, 322.0, 145.0, 499.0, 126.0, 214.0, 167.0, 245.0, 142.0, 222.0, 185.0, 85.31388040399841, 109.17609455512758, 36.99148364703705, 35.75633189979027, 28.89355026459099, 23.051744566152532, 21.735575142728553, 19.018175987176704, 18.30935792658839, 18.121619172566827, 17.485948132172993, 16.364793955368658, 16.545863245089194, 15.58350582724276, 73.12826415005392, 13.901378249280679, 13.459329704720405, 14.786665959549477, 12.839548138693853, 12.751578086636176, 18.32058347892113, 12.223898175069914, 12.124453433927616, 12.11791859254952, 21.747820184525857, 11.785575957554684, 11.700849281747896, 11.700999521324334, 11.69906464494838, 11.694714011049845, 76.73957756677414, 102.8239609982487, 230.7707388317288, 61.13325579154193, 33.72288429152048, 29.908505021419707, 34.417656935227704, 537.9079425130478, 23.910727038720648, 67.39656162657374, 128.93716840857354, 499.91478789903135, 56.40372776067326, 245.93556212386977, 104.18408967536975, 76.50542292455938, 134.68576978275186, 50.92971609792443, 254.9757982967315, 83.76411347211962, 539.677379522823, 285.5851311022759, 531.4538972509222, 230.60775946088367, 253.8213807449031, 426.47327400027535, 302.67538558207616, 164.90558021447134, 165.18441420286246, 176.22407850425103, 533.6398032146094, 1501.7245311978415, 205.7232531940909, 264.68968623638114, 1762.928294109054, 674.9092063572368, 547.5040670344251, 444.43980611055287, 235.87189964989926, 290.642780600202, 461.27312138884065, 472.6775207673071, 321.2284284006441, 448.9717942664854, 322.1773762243893, 246.5524836693365, 476.6850667939133, 324.94557874504056, 363.9827737074058, 92.4603497822012, 43.97341385499779, 30.2419714653433, 28.05373962302408, 26.872613023554237, 25.96934166217658, 22.95556968459982, 21.325171924944172, 19.594986383327978, 19.5977889686033, 18.2285790504357, 16.41208806284011, 16.320007495462757, 29.498286607862394, 16.104286681047284, 14.781305010438697, 47.992768870609034, 14.407905426743293, 13.866687141193566, 13.865108142622184, 13.851762551909232, 13.318909999057436, 13.225507034779351, 13.128898874688675, 12.683401075668833, 12.68198274489548, 12.679498716162712, 12.593835682046047, 12.588180261163936, 142.37708884921884, 41.9523913388168, 23.35516316386418, 20.836167597927375, 35.77081100051621, 30.37608890579705, 57.026002684712736, 25.745969748787182, 307.6139719840269, 55.49383956031461, 37.24649998810324, 48.078209686846904, 36.194694605305045, 52.974706512765636, 115.79187746438416, 322.1773762243893, 60.371435331770215, 37.81219278511435, 1762.928294109054, 79.9180980222255, 123.80302167152713, 167.55029507253644, 198.57017787532232, 178.60654512418398, 476.6850667939133, 1501.7245311978415, 176.21774311094214, 321.2284284006441, 302.67538558207616, 57.273636759807665, 309.97675186032023, 539.677379522823, 338.5647527173706, 279.0782504342062, 241.09233875920478, 472.6775207673071, 461.27312138884065, 137.50784352620153, 338.07718902306317, 547.5040670344251, 317.92972089980935, 182.94244200891828, 426.47327400027535, 363.9827737074058, 241.80488941899984, 499.91478789903135, 444.43980611055287, 674.9092063572368, 533.6398032146094, 448.9717942664854, 28.913803466270345, 18.795452646142767, 17.935715411361787, 16.605518592922497, 16.53916862973903, 16.27356579746709, 16.13998504760152, 16.139546565338375, 16.515806497862258, 15.273826524006088, 14.876513644460628, 14.807046787460166, 14.729784910778275, 14.410435608148498, 13.87645794381839, 13.474287496978542, 13.47475820566719, 12.945293275222687, 12.475364707688067, 12.147627173897623, 12.080500573937153, 11.215902597743755, 11.14854031503629, 11.137639031766573, 14.05370363041266, 10.816688041545017, 10.284823186766806, 10.284849396909827, 10.242232616518779, 9.817761119633875, 61.93624873388708, 62.121764708853085, 47.95731443717152, 36.899327343917406, 107.26874139431341, 74.38582882483605, 44.165947107024, 322.82443783641224, 333.6016642508779, 81.39639898361663, 29.564027148128982, 50.85273200427369, 214.7106329974644, 222.78454767333344, 273.00590002254575, 77.40060246706743, 55.65689844078306, 210.50524442846404, 51.7631532668156, 69.02527254604028, 130.20127620220185, 375.2011653504105, 171.62166933648288, 56.31014780091757, 155.4958455745455, 62.165421023205994, 134.0113964404201, 240.40058283997746, 674.9092063572368, 531.4538972509222, 1762.928294109054, 1501.7245311978415, 448.9717942664854, 317.92972089980935, 125.3300872359159, 324.94557874504056, 126.01125210967946, 472.6775207673071, 135.7002527909636, 461.27312138884065, 176.17992882132688, 444.43980611055287, 254.9757982967315, 270.28611337564394, 476.6850667939133, 285.5851311022759, 338.5647527173706, 16.900840303849574, 16.37657811174343, 10.145020815926589, 9.686166012598363, 8.757493887928527, 8.310277482989349, 7.064872055533433, 7.000861994934491, 7.000560351348541, 6.541974915596618, 6.538983604213564, 6.534269853802594, 6.148982158649247, 6.145521547503111, 6.145478571832435, 5.824249491796481, 5.7554970794754015, 5.684086741313176, 5.685875065649059, 5.673694159928116, 9.297439961922434, 5.232650242969399, 5.2231578122414515, 5.2206819005555305, 5.2072399136372525, 4.905628564766841, 9.13483626746722, 4.838055179799441, 4.837133830490652, 4.834012806875761, 9.016812580149393, 18.18174450345989, 18.273955486071106, 10.611300182808943, 11.621487953511263, 8.09509615552928, 18.61850215017111, 14.173524279449323, 35.21990690853395, 26.06201990710343, 72.46978986528735, 123.59109616408344, 12.338328572040787, 375.2011653504105, 32.734328527558276, 48.13584023092525, 45.41672703063528, 14.649777413013199, 17.2903593562569, 24.30593821143215, 533.6398032146094, 246.5524836693365, 126.01125210967946, 185.28682200251595, 273.00590002254575, 290.642780600202, 324.94557874504056, 279.0782504342062, 30.808693981700916, 108.42186868894422, 110.50217796035172, 547.5040670344251, 60.40107376301823, 1501.7245311978415, 363.9827737074058, 539.677379522823, 444.43980611055287, 321.2284284006441, 167.55295625217727, 472.6775207673071, 461.27312138884065, 448.9717942664854, 270.28611337564394, 338.07718902306317, 144.0558142796053, 211.02791043734604, 338.5647527173706, 322.82443783641224, 201.69032799160382, 202.0258932708077, 14.772044631116962, 13.519664056439948, 13.388050438605017, 8.49601136939534, 8.497207093862722, 7.038877490710327, 6.786312310157833, 6.718535060606701, 6.584703396176073, 6.582970757722306, 6.56448908193775, 6.18874209211682, 11.593326005340199, 5.788240409677354, 5.727535225787253, 5.7240259523927435, 7.086603726284026, 5.330234837639774, 5.3271042440126, 5.264558029925163, 5.262596079654696, 5.259831248642483, 4.864837556476911, 4.862741762400975, 4.862647055328116, 4.798077848103768, 4.797642158656896, 4.795295305857586, 4.795403448368401, 4.79631465079565, 17.57009530601313, 8.900559067129315, 7.757560268256667, 19.47878843135949, 15.587619672186502, 24.408929076492328, 7.215910304153365, 11.716820838755178, 17.761309090298745, 41.283715062659944, 9.306789924826793, 12.15288755902466, 121.77129503679761, 130.12052594343749, 96.79143362483205, 116.58671774399448, 139.53810711387143, 25.543378320339404, 112.29918233801676, 144.0558142796053, 307.6139719840269, 547.5040670344251, 55.401209753967194, 537.9079425130478, 1762.928294109054, 21.887804294596048, 476.6850667939133, 167.55029507253644, 174.99481838799574, 1501.7245311978415, 363.9827737074058, 147.61715271618485, 444.43980611055287, 235.87189964989926, 533.6398032146094, 245.93556212386977, 134.68576978275186, 247.47879271059824, 426.47327400027535, 322.1773762243893, 290.642780600202, 674.9092063572368, 17.844269051893765, 11.150008385128565, 11.143818871066314, 10.80997759996282, 10.415101949072824, 8.940949295383584, 8.879995169631853, 8.146052303175953, 8.084891062254304, 7.691239816361593, 7.352298342584659, 7.352298342584659, 7.294157405946438, 7.286641624430329, 7.012787457512133, 6.898066356717613, 6.896913618698813, 6.555570183603301, 6.544881180200583, 6.217231198635802, 5.76441944757984, 5.7635963051405525, 5.762695198252396, 5.763517073309226, 5.424021665008024, 5.367953336326051, 5.367214621279805, 5.366426921010778, 5.366463007583897, 5.026043123354248, 9.543544165605876, 20.746743106444658, 22.951218146354613, 42.10472002067105, 13.337104943475222, 26.983009067853864, 11.629524334605016, 29.667964955322326, 41.430151887926854, 24.185929011845005, 333.6016642508779, 1762.928294109054, 98.45840386256963, 167.55295625217727, 40.251419340870875, 285.5851311022759, 176.67854642046802, 1501.7245311978415, 322.82443783641224, 15.185322060634276, 155.4958455745455, 52.367711222132776, 43.412548136135946, 124.67027371075372, 126.72861643638008, 86.45410467696279, 674.9092063572368, 531.4538972509222, 200.482143850603, 176.17992882132688, 309.97675186032023, 448.9717942664854, 145.4895828020648, 171.62166933648288, 426.47327400027535, 3.171516281096892, 3.17165059372546, 2.7231744603149703, 2.7216402034168063, 2.501401554874009, 2.501383101539308, 2.501383101539308, 2.309565800473636, 2.3092136627066773, 7.560858365132025, 2.085590457632399, 2.0845151417667545, 2.1579535244190184, 1.8620211686565886, 1.8621577115270729, 1.8619942800908027, 1.8617400075836041, 1.8611914932376874, 1.8610511787594852, 1.8606165060887614, 1.8597284576280348, 1.8561177694107502, 1.8558362364276877, 1.8565310620612132, 1.6708224903822333, 1.6384114981704092, 1.6384114981704092, 1.6384114981704092, 1.6384114981704092, 1.6384114981704092, 8.207957310525355, 2.5388876718623683, 3.2800167797869726, 4.030523290639276, 2.3176775225848725, 4.969206678602106, 41.283715062659944, 18.548435393120357, 16.86913372511423, 5.5810687082586, 34.417656935227704, 7.935338704915581, 8.185515159457934, 64.25593041921817, 73.12826415005392, 67.2779220200035, 4.814205311912023, 127.00131876841473, 101.37252602919281, 145.4895828020648, 55.535089520470535, 531.4538972509222, 176.17992882132688], \"Category\": [\"Default\", \"Default\", \"Default\", \"Default\", \"Default\", \"Default\", \"Default\", \"Default\", \"Default\", \"Default\", \"Default\", \"Default\", \"Default\", \"Default\", \"Default\", \"Default\", \"Default\", \"Default\", \"Default\", \"Default\", \"Default\", \"Default\", \"Default\", \"Default\", \"Default\", \"Default\", \"Default\", \"Default\", \"Default\", \"Default\", \"Topic1\", \"Topic1\", \"Topic1\", \"Topic1\", \"Topic1\", \"Topic1\", \"Topic1\", \"Topic1\", \"Topic1\", \"Topic1\", \"Topic1\", \"Topic1\", \"Topic1\", \"Topic1\", \"Topic1\", \"Topic1\", \"Topic1\", \"Topic1\", \"Topic1\", \"Topic1\", \"Topic1\", \"Topic1\", \"Topic1\", \"Topic1\", \"Topic1\", \"Topic1\", \"Topic1\", \"Topic1\", \"Topic1\", \"Topic1\", \"Topic1\", \"Topic1\", \"Topic1\", \"Topic1\", \"Topic1\", \"Topic1\", \"Topic1\", \"Topic1\", \"Topic1\", \"Topic1\", \"Topic1\", \"Topic1\", \"Topic1\", \"Topic1\", \"Topic1\", \"Topic1\", \"Topic1\", \"Topic1\", \"Topic1\", \"Topic1\", \"Topic1\", \"Topic1\", \"Topic1\", \"Topic1\", \"Topic1\", \"Topic1\", \"Topic1\", \"Topic1\", \"Topic1\", \"Topic1\", \"Topic1\", \"Topic1\", \"Topic1\", \"Topic1\", \"Topic1\", \"Topic1\", \"Topic1\", \"Topic1\", \"Topic1\", \"Topic1\", \"Topic1\", \"Topic1\", \"Topic1\", \"Topic1\", \"Topic1\", \"Topic1\", \"Topic1\", \"Topic1\", \"Topic1\", \"Topic2\", \"Topic2\", \"Topic2\", \"Topic2\", \"Topic2\", \"Topic2\", \"Topic2\", \"Topic2\", \"Topic2\", \"Topic2\", \"Topic2\", \"Topic2\", \"Topic2\", \"Topic2\", \"Topic2\", \"Topic2\", \"Topic2\", \"Topic2\", \"Topic2\", \"Topic2\", \"Topic2\", \"Topic2\", \"Topic2\", \"Topic2\", \"Topic2\", \"Topic2\", \"Topic2\", \"Topic2\", \"Topic2\", \"Topic2\", \"Topic2\", \"Topic2\", \"Topic2\", \"Topic2\", \"Topic2\", \"Topic2\", \"Topic2\", \"Topic2\", \"Topic2\", \"Topic2\", \"Topic2\", \"Topic2\", \"Topic2\", \"Topic2\", \"Topic2\", \"Topic2\", \"Topic2\", \"Topic2\", \"Topic2\", \"Topic2\", \"Topic2\", \"Topic2\", \"Topic2\", \"Topic2\", \"Topic2\", \"Topic2\", \"Topic2\", \"Topic2\", \"Topic2\", \"Topic2\", \"Topic2\", \"Topic2\", \"Topic2\", \"Topic2\", \"Topic2\", \"Topic2\", \"Topic2\", \"Topic2\", \"Topic2\", \"Topic2\", \"Topic2\", \"Topic2\", \"Topic2\", \"Topic2\", \"Topic2\", \"Topic2\", \"Topic2\", \"Topic2\", \"Topic2\", \"Topic3\", \"Topic3\", \"Topic3\", \"Topic3\", \"Topic3\", \"Topic3\", \"Topic3\", \"Topic3\", \"Topic3\", \"Topic3\", \"Topic3\", \"Topic3\", \"Topic3\", \"Topic3\", \"Topic3\", \"Topic3\", \"Topic3\", \"Topic3\", \"Topic3\", \"Topic3\", \"Topic3\", \"Topic3\", \"Topic3\", \"Topic3\", \"Topic3\", \"Topic3\", \"Topic3\", \"Topic3\", \"Topic3\", \"Topic3\", \"Topic3\", \"Topic3\", \"Topic3\", \"Topic3\", \"Topic3\", \"Topic3\", \"Topic3\", \"Topic3\", \"Topic3\", \"Topic3\", \"Topic3\", \"Topic3\", \"Topic3\", \"Topic3\", \"Topic3\", \"Topic3\", \"Topic3\", \"Topic3\", \"Topic3\", \"Topic3\", \"Topic3\", \"Topic3\", \"Topic3\", \"Topic3\", \"Topic3\", \"Topic3\", \"Topic3\", \"Topic3\", \"Topic3\", \"Topic3\", \"Topic3\", \"Topic3\", \"Topic3\", \"Topic3\", \"Topic3\", \"Topic3\", \"Topic3\", \"Topic3\", \"Topic3\", \"Topic3\", \"Topic3\", \"Topic3\", \"Topic3\", \"Topic3\", \"Topic3\", \"Topic3\", \"Topic3\", \"Topic4\", \"Topic4\", \"Topic4\", \"Topic4\", \"Topic4\", \"Topic4\", \"Topic4\", \"Topic4\", \"Topic4\", \"Topic4\", \"Topic4\", \"Topic4\", \"Topic4\", \"Topic4\", \"Topic4\", \"Topic4\", \"Topic4\", \"Topic4\", \"Topic4\", \"Topic4\", \"Topic4\", \"Topic4\", \"Topic4\", \"Topic4\", \"Topic4\", \"Topic4\", \"Topic4\", \"Topic4\", \"Topic4\", \"Topic4\", \"Topic4\", \"Topic4\", \"Topic4\", \"Topic4\", \"Topic4\", \"Topic4\", \"Topic4\", \"Topic4\", \"Topic4\", \"Topic4\", \"Topic4\", \"Topic4\", \"Topic4\", \"Topic4\", \"Topic4\", \"Topic4\", \"Topic4\", \"Topic4\", \"Topic4\", \"Topic4\", \"Topic4\", \"Topic4\", \"Topic4\", \"Topic4\", \"Topic4\", \"Topic4\", \"Topic4\", \"Topic4\", \"Topic4\", \"Topic4\", \"Topic4\", \"Topic4\", \"Topic4\", \"Topic4\", \"Topic4\", \"Topic4\", \"Topic4\", \"Topic4\", \"Topic4\", \"Topic4\", \"Topic4\", \"Topic4\", \"Topic4\", \"Topic4\", \"Topic4\", \"Topic4\", \"Topic4\", \"Topic4\", \"Topic4\", \"Topic4\", \"Topic5\", \"Topic5\", \"Topic5\", \"Topic5\", \"Topic5\", \"Topic5\", \"Topic5\", \"Topic5\", \"Topic5\", \"Topic5\", \"Topic5\", \"Topic5\", \"Topic5\", \"Topic5\", \"Topic5\", \"Topic5\", \"Topic5\", \"Topic5\", \"Topic5\", \"Topic5\", \"Topic5\", \"Topic5\", \"Topic5\", \"Topic5\", \"Topic5\", \"Topic5\", \"Topic5\", \"Topic5\", \"Topic5\", \"Topic5\", \"Topic5\", \"Topic5\", \"Topic5\", \"Topic5\", \"Topic5\", \"Topic5\", \"Topic5\", \"Topic5\", \"Topic5\", \"Topic5\", \"Topic5\", \"Topic5\", \"Topic5\", \"Topic5\", \"Topic5\", \"Topic5\", \"Topic5\", \"Topic5\", \"Topic5\", \"Topic5\", \"Topic5\", \"Topic5\", \"Topic5\", \"Topic5\", \"Topic5\", \"Topic5\", \"Topic5\", \"Topic5\", \"Topic5\", \"Topic5\", \"Topic5\", \"Topic5\", \"Topic5\", \"Topic5\", \"Topic5\", \"Topic5\", \"Topic5\", \"Topic5\", \"Topic5\", \"Topic5\", \"Topic5\", \"Topic5\", \"Topic6\", \"Topic6\", \"Topic6\", \"Topic6\", \"Topic6\", \"Topic6\", \"Topic6\", \"Topic6\", \"Topic6\", \"Topic6\", \"Topic6\", \"Topic6\", \"Topic6\", \"Topic6\", \"Topic6\", \"Topic6\", \"Topic6\", \"Topic6\", \"Topic6\", \"Topic6\", \"Topic6\", \"Topic6\", \"Topic6\", \"Topic6\", \"Topic6\", \"Topic6\", \"Topic6\", \"Topic6\", \"Topic6\", \"Topic6\", \"Topic6\", \"Topic6\", \"Topic6\", \"Topic6\", \"Topic6\", \"Topic6\", \"Topic6\", \"Topic6\", \"Topic6\", \"Topic6\", \"Topic6\", \"Topic6\", \"Topic6\", \"Topic6\", \"Topic6\", \"Topic6\", \"Topic6\", \"Topic6\", \"Topic6\", \"Topic6\", \"Topic6\", \"Topic6\", \"Topic6\", \"Topic6\", \"Topic6\", \"Topic6\", \"Topic6\", \"Topic6\", \"Topic6\", \"Topic6\", \"Topic6\", \"Topic6\", \"Topic6\", \"Topic6\", \"Topic6\", \"Topic7\", \"Topic7\", \"Topic7\", \"Topic7\", \"Topic7\", \"Topic7\", \"Topic7\", \"Topic7\", \"Topic7\", \"Topic7\", \"Topic7\", \"Topic7\", \"Topic7\", \"Topic7\", \"Topic7\", \"Topic7\", \"Topic7\", \"Topic7\", \"Topic7\", \"Topic7\", \"Topic7\", \"Topic7\", \"Topic7\", \"Topic7\", \"Topic7\", \"Topic7\", \"Topic7\", \"Topic7\", \"Topic7\", \"Topic7\", \"Topic7\", \"Topic7\", \"Topic7\", \"Topic7\", \"Topic7\", \"Topic7\", \"Topic7\", \"Topic7\", \"Topic7\", \"Topic7\", \"Topic7\", \"Topic7\", \"Topic7\", \"Topic7\", \"Topic7\", \"Topic7\", \"Topic7\", \"Topic7\", \"Topic7\", \"Topic7\", \"Topic7\", \"Topic7\", \"Topic7\"], \"logprob\": [30.0, 29.0, 28.0, 27.0, 26.0, 25.0, 24.0, 23.0, 22.0, 21.0, 20.0, 19.0, 18.0, 17.0, 16.0, 15.0, 14.0, 13.0, 12.0, 11.0, 10.0, 9.0, 8.0, 7.0, 6.0, 5.0, 4.0, 3.0, 2.0, 1.0, -5.7139, -5.4708, -6.5594, -6.5939, -6.8113, -7.0431, -7.1034, -7.2411, -7.2804, -7.2915, -7.3292, -7.397, -7.3861, -7.4479, -5.906, -7.5672, -7.6011, -7.5073, -7.6507, -7.6579, -7.2977, -7.7024, -7.7112, -7.7121, -7.1277, -7.741, -7.7485, -7.7485, -7.7487, -7.7492, -5.8813, -5.6055, -4.85, -6.1475, -6.729, -6.8497, -6.7167, -4.1144, -7.0671, -6.1164, -5.5253, -4.2937, -6.2845, -4.9491, -5.7307, -6.0388, -5.5668, -6.4163, -5.0399, -6.0344, -4.5127, -5.0465, -4.551, -5.2377, -5.1977, -4.8052, -5.0742, -5.5321, -5.5319, -5.5051, -4.7091, -4.0415, -5.406, -5.2523, -4.0193, -4.6667, -4.8133, -5.0671, -5.3956, -5.3226, -5.1765, -5.1893, -5.3542, -5.2846, -5.3943, -5.4484, -5.365, -5.4332, -5.4444, -5.4643, -6.2151, -6.596, -6.6727, -6.7168, -6.7518, -6.8784, -6.9542, -7.0415, -7.0414, -7.1163, -7.2252, -7.231, -6.6398, -7.2455, -7.3342, -6.1567, -7.361, -7.401, -7.4011, -7.4024, -7.4433, -7.4507, -7.4585, -7.4946, -7.4948, -7.495, -7.502, -7.5026, -5.0779, -6.3159, -6.9228, -7.0313, -6.5296, -6.6984, -6.1346, -6.8557, -4.6666, -6.1807, -6.532, -6.3147, -6.5654, -6.2473, -5.5998, -4.8036, -6.1665, -6.5481, -3.4683, -5.9568, -5.6248, -5.3969, -5.2717, -5.3636, -4.6432, -3.8424, -5.4212, -4.9938, -5.0627, -6.2305, -5.1435, -4.8483, -5.1363, -5.2604, -5.3768, -5.0141, -5.038, -5.7324, -5.2563, -5.0248, -5.327, -5.5992, -5.2299, -5.3076, -5.4837, -5.2866, -5.3309, -5.2388, -5.3465, -5.4579, -6.5278, -6.9714, -7.0199, -7.1, -7.1048, -7.1211, -7.1296, -7.1297, -7.1074, -7.1873, -7.2149, -7.2198, -7.2259, -7.2482, -7.2878, -7.3189, -7.3198, -7.3609, -7.4001, -7.4281, -7.434, -7.5128, -7.5191, -7.5212, -7.289, -7.5514, -7.6051, -7.6057, -7.6122, -7.655, -5.8148, -5.8141, -6.0727, -6.3409, -5.3036, -5.6763, -6.1891, -4.3123, -4.2881, -5.6451, -6.5966, -6.1038, -4.7971, -4.7742, -4.6577, -5.778, -6.0691, -4.9729, -6.1586, -5.9365, -5.4173, -4.5949, -5.2299, -6.128, -5.3231, -6.0599, -5.4678, -5.0467, -4.2907, -4.5047, -3.8193, -3.9619, -4.7642, -5.0436, -5.6293, -5.0939, -5.6285, -5.0536, -5.6407, -5.156, -5.562, -5.3186, -5.5005, -5.5329, -5.4736, -5.5341, -5.5533, -6.0836, -6.1164, -6.6219, -6.6715, -6.7805, -6.837, -7.0149, -7.0248, -7.0249, -7.1, -7.1007, -7.1016, -7.1693, -7.1701, -7.1702, -7.2303, -7.2438, -7.2582, -7.258, -7.2609, -6.7719, -7.352, -7.3549, -7.3554, -7.3596, -7.4265, -6.8057, -7.4426, -7.4429, -7.4439, -6.8302, -6.1685, -6.1639, -6.6943, -6.6236, -6.9566, -6.2121, -6.4621, -5.6718, -5.9709, -5.1274, -4.7554, -6.6267, -3.9413, -5.8619, -5.572, -5.6216, -6.5007, -6.3785, -6.1269, -3.9019, -4.4918, -4.9972, -4.7763, -4.5574, -4.5377, -4.5646, -4.8072, -6.0897, -5.3884, -5.3922, -4.5683, -5.769, -4.2385, -4.9274, -4.7955, -4.9018, -5.0466, -5.332, -4.9171, -5.0388, -5.0663, -5.2687, -5.2048, -5.4938, -5.4012, -5.3031, -5.3864, -5.4474, -5.4485, -5.8222, -5.9152, -5.9254, -6.4109, -6.4108, -6.6171, -6.6571, -6.6683, -6.6906, -6.6922, -6.6955, -6.7599, -6.1324, -6.8354, -6.847, -6.8479, -6.637, -6.9289, -6.9298, -6.9429, -6.9436, -6.9444, -7.0341, -7.0348, -7.0349, -7.0502, -7.0503, -7.051, -7.051, -7.0509, -5.8336, -6.4816, -6.6106, -5.7841, -6.0194, -5.6348, -6.6928, -6.288, -5.9494, -5.3601, -6.5131, -6.3854, -4.8823, -4.9478, -5.2044, -5.1064, -5.0529, -5.9879, -5.2213, -5.0932, -4.7898, -4.5156, -5.6549, -4.5836, -4.0859, -6.1105, -4.7156, -5.2057, -5.2607, -4.409, -5.0093, -5.3485, -5.0655, -5.2813, -5.2128, -5.4239, -5.5738, -5.4912, -5.4166, -5.4723, -5.5094, -5.7517, -5.5095, -6.0039, -6.0047, -6.0369, -6.0766, -6.2409, -6.2486, -6.3422, -6.3509, -6.405, -6.4546, -6.4546, -6.4634, -6.4649, -6.5068, -6.525, -6.5252, -6.5818, -6.5844, -6.6412, -6.7263, -6.7265, -6.7268, -6.7267, -6.7958, -6.8075, -6.8077, -6.8079, -6.8079, -6.8835, -6.2757, -5.6366, -5.6064, -5.2486, -6.1607, -5.6761, -6.2789, -5.7107, -5.5828, -5.8966, -4.4419, -3.6561, -5.1577, -5.0148, -5.7282, -4.8663, -5.1345, -4.3003, -4.9267, -6.1713, -5.3181, -5.7322, -5.8121, -5.5379, -5.5435, -5.6696, -5.1671, -5.3539, -5.5806, -5.621, -5.5698, -5.5432, -5.7069, -5.6957, -5.6067, -5.4852, -5.4853, -5.6876, -5.6923, -5.8042, -5.8043, -5.8043, -5.9187, -5.9193, -4.7644, -6.071, -6.0732, -6.0653, -6.2498, -6.25, -6.2502, -6.2504, -6.2519, -6.2524, -6.2536, -6.2552, -6.2613, -6.2621, -6.2628, -6.4335, -6.468, -6.468, -6.468, -6.468, -6.468, -4.9832, -6.0704, -5.8607, -5.8041, -6.2555, -5.8093, -4.7256, -5.1626, -5.3416, -5.8041, -5.3601, -5.8215, -5.8205, -5.3275, -5.3985, -5.45, -6.0961, -5.5818, -5.6391, -5.7647, -5.8379, -5.7946, -5.9506], \"loglift\": [30.0, 29.0, 28.0, 27.0, 26.0, 25.0, 24.0, 23.0, 22.0, 21.0, 20.0, 19.0, 18.0, 17.0, 16.0, 15.0, 14.0, 13.0, 12.0, 11.0, 10.0, 9.0, 8.0, 7.0, 6.0, 5.0, 4.0, 3.0, 2.0, 1.0, 1.1709, 1.1674, 1.1611, 1.1605, 1.1563, 1.1503, 1.1488, 1.1447, 1.1433, 1.1425, 1.1405, 1.139, 1.139, 1.1371, 1.1329, 1.132, 1.1303, 1.1302, 1.1279, 1.1276, 1.1254, 1.1253, 1.1248, 1.1244, 1.1239, 1.1233, 1.123, 1.123, 1.123, 1.1229, 1.1094, 1.0926, 1.0397, 1.0706, 1.084, 1.0833, 1.0759, 0.9291, 1.0897, 1.0042, 0.9466, 0.8231, 1.0141, 0.877, 0.9543, 0.955, 0.8615, 0.9844, 0.7501, 0.8688, 0.5275, 0.6301, 0.5046, 0.6527, 0.5968, 0.4704, 0.5443, 0.6937, 0.6922, 0.6543, 0.3424, -0.0247, 0.5986, 0.5004, -0.1628, 0.1499, 0.2125, 0.1673, 0.4723, 0.3364, 0.0207, -0.0166, 0.2048, -0.0604, 0.1618, 0.3752, -0.2007, 0.1143, -0.0104, 1.34, 1.3325, 1.326, 1.3243, 1.3233, 1.3225, 1.3192, 1.3171, 1.3144, 1.3144, 1.3119, 1.308, 1.3077, 1.307, 1.3066, 1.3036, 1.3034, 1.3024, 1.3007, 1.3007, 1.3004, 1.2987, 1.2983, 1.2979, 1.2963, 1.2962, 1.2962, 1.296, 1.2958, 1.2948, 1.2787, 1.2575, 1.2631, 1.2244, 1.2191, 1.153, 1.2272, 0.9357, 1.1342, 1.1816, 1.1437, 1.1768, 1.1141, 0.9796, 0.7524, 1.0641, 1.1504, 0.3881, 0.9934, 0.8877, 0.813, 0.7684, 0.7824, 0.5211, 0.1744, 0.7383, 0.5652, 0.5558, 1.0529, 0.4512, 0.1919, 0.3701, 0.4393, 0.4692, 0.1586, 0.1592, 0.6751, 0.2516, 0.001, 0.2424, 0.5228, 0.0457, 0.1265, 0.3593, -0.1699, -0.0966, -0.4222, -0.295, -0.2337, 1.439, 1.4261, 1.4245, 1.4214, 1.4206, 1.4205, 1.4202, 1.4202, 1.4194, 1.4177, 1.4165, 1.4162, 1.4154, 1.415, 1.4131, 1.4115, 1.4105, 1.4095, 1.4073, 1.4059, 1.4056, 1.401, 1.4007, 1.3996, 1.3993, 1.3987, 1.3954, 1.3948, 1.3924, 1.392, 1.3902, 1.3879, 1.3881, 1.3821, 1.3523, 1.3456, 1.3541, 1.2418, 1.2331, 1.2867, 1.348, 1.2984, 1.1648, 1.1507, 1.064, 1.2042, 1.2429, 1.0087, 1.2259, 1.1602, 1.0447, 0.8088, 0.956, 1.1723, 0.9614, 1.1414, 0.9655, 0.8022, 0.5259, 0.5509, 0.0371, 0.0549, 0.46, 0.5257, 0.8709, 0.4536, 0.8663, 0.1192, 0.78, 0.0412, 0.5976, -0.0842, 0.2895, 0.1988, -0.3093, 0.1425, -0.0468, 2.4202, 2.4189, 2.3923, 2.3889, 2.3808, 2.3767, 2.3612, 2.3604, 2.3603, 2.3529, 2.3527, 2.3525, 2.3456, 2.3454, 2.3453, 2.3389, 2.3372, 2.3353, 2.3352, 2.3344, 2.3295, 2.3242, 2.3232, 2.3231, 2.3215, 2.3143, 2.3134, 2.3121, 2.312, 2.3116, 2.3019, 2.2623, 2.2618, 2.2749, 2.2547, 2.2833, 2.1949, 2.2177, 2.0978, 2.0998, 1.9206, 1.7587, 2.1917, 1.4624, 1.9808, 1.8851, 1.8937, 2.146, 2.1025, 2.0135, 1.1495, 1.3318, 1.4975, 1.3329, 1.1643, 1.1213, 0.9829, 0.8924, 1.8137, 1.2567, 1.2339, 0.4575, 1.4612, -0.2217, 0.5066, 0.2447, 0.3326, 0.5124, 0.8779, 0.2557, 0.1584, 0.1579, 0.463, 0.3031, 0.8672, 0.578, 0.2033, 0.1676, 0.577, 0.5742, 2.8162, 2.8119, 2.8114, 2.7807, 2.7806, 2.7626, 2.7592, 2.758, 2.7558, 2.7545, 2.754, 2.7486, 2.7483, 2.7399, 2.7389, 2.7386, 2.736, 2.7289, 2.7285, 2.7272, 2.727, 2.7267, 2.715, 2.7147, 2.7147, 2.7128, 2.7127, 2.7126, 2.7125, 2.7124, 2.6314, 2.6634, 2.6719, 2.5777, 2.5653, 2.5014, 2.662, 2.5822, 2.5048, 2.2505, 2.5873, 2.4482, 1.6467, 1.5149, 1.5542, 1.4661, 1.3399, 2.1029, 1.3887, 1.2678, 0.8125, 0.5102, 1.6616, 0.4599, -0.2294, 2.1347, 0.4487, 1.0042, 0.9058, -0.3922, 0.4248, 0.988, 0.1688, 0.5866, -0.1614, 0.4022, 0.8544, 0.3286, -0.141, 0.0837, 0.1496, -0.9351, 2.94, 2.9158, 2.9156, 2.9138, 2.9113, 2.8996, 2.8988, 2.8915, 2.8902, 2.8861, 2.8816, 2.8816, 2.8807, 2.8802, 2.8766, 2.8749, 2.8748, 2.869, 2.8681, 2.8627, 2.8532, 2.8531, 2.853, 2.8529, 2.8446, 2.8433, 2.8432, 2.8431, 2.8431, 2.833, 2.7996, 2.6622, 2.5914, 2.3424, 2.5799, 2.3598, 2.5987, 2.2304, 2.0244, 2.2488, 1.0793, 0.2004, 1.5838, 1.1951, 1.9079, 0.8104, 1.0223, -0.2835, 0.6273, 2.4395, 0.9664, 1.6407, 1.7483, 0.9676, 0.9457, 1.202, -0.3505, -0.2984, 0.4498, 0.5386, 0.0249, -0.319, 0.6441, 0.4901, -0.3311, 4.6917, 4.6916, 4.6418, 4.6376, 4.6101, 4.61, 4.61, 4.5754, 4.5749, 4.5438, 4.5251, 4.5234, 4.4967, 4.4597, 4.4594, 4.4593, 4.4592, 4.4581, 4.4576, 4.4567, 4.4556, 4.4514, 4.4508, 4.4496, 4.3844, 4.3694, 4.3694, 4.3694, 4.3694, 4.3694, 4.2428, 4.329, 4.2826, 4.1331, 4.2351, 3.9186, 2.8851, 3.2482, 3.1641, 3.8077, 2.4325, 3.4383, 3.4083, 1.8408, 1.6405, 1.6723, 3.6635, 0.9052, 1.0733, 0.5864, 1.4762, -0.7391, 0.209]}, \"token.table\": {\"Topic\": [5, 6, 7, 7, 2, 2, 5, 4, 5, 7, 1, 2, 1, 2, 3, 6, 1, 2, 3, 4, 5, 6, 1, 2, 3, 5, 4, 3, 4, 1, 2, 3, 4, 5, 2, 1, 2, 3, 4, 5, 3, 4, 6, 1, 1, 2, 3, 5, 7, 2, 3, 7, 1, 1, 2, 3, 4, 5, 6, 3, 7, 4, 5, 1, 4, 3, 2, 1, 2, 3, 4, 5, 6, 1, 2, 3, 4, 1, 3, 4, 5, 6, 3, 7, 7, 2, 6, 3, 7, 1, 1, 3, 4, 6, 1, 3, 5, 6, 7, 1, 2, 3, 6, 1, 2, 3, 4, 6, 7, 3, 1, 2, 3, 4, 5, 1, 2, 3, 4, 5, 1, 2, 5, 7, 2, 7, 4, 6, 7, 3, 4, 6, 6, 2, 2, 2, 2, 3, 5, 2, 5, 6, 7, 2, 5, 6, 3, 3, 1, 1, 2, 3, 4, 5, 1, 2, 4, 5, 6, 1, 2, 4, 5, 2, 5, 1, 2, 3, 4, 5, 1, 2, 3, 4, 5, 1, 2, 3, 5, 3, 2, 3, 4, 2, 3, 6, 3, 4, 1, 4, 6, 2, 7, 4, 3, 1, 3, 3, 1, 2, 4, 5, 2, 5, 1, 2, 5, 2, 4, 6, 3, 2, 1, 2, 3, 4, 5, 1, 2, 3, 4, 5, 6, 1, 2, 3, 4, 6, 1, 2, 4, 5, 1, 2, 3, 4, 5, 7, 6, 1, 7, 1, 2, 3, 5, 6, 2, 5, 6, 1, 2, 3, 5, 6, 1, 2, 3, 6, 3, 1, 2, 3, 6, 1, 2, 4, 1, 2, 3, 4, 5, 7, 7, 5, 5, 1, 2, 3, 4, 5, 6, 2, 5, 6, 1, 2, 3, 5, 6, 1, 2, 3, 6, 4, 1, 3, 4, 3, 5, 3, 6, 7, 1, 2, 4, 5, 2, 7, 3, 4, 1, 4, 6, 2, 1, 5, 1, 3, 4, 5, 6, 1, 2, 3, 4, 5, 6, 5, 1, 1, 2, 5, 5, 5, 1, 2, 3, 4, 6, 5, 1, 2, 3, 4, 5, 1, 3, 4, 5, 1, 3, 4, 6, 7, 1, 2, 5, 1, 5, 6, 1, 2, 3, 4, 6, 1, 2, 3, 4, 5, 6, 1, 2, 3, 4, 5, 6, 1, 2, 3, 4, 5, 1, 2, 3, 4, 6, 1, 2, 3, 5, 6, 1, 3, 6, 6, 2, 7, 1, 2, 3, 4, 6, 1, 2, 3, 5, 6, 6, 7, 2, 5, 6, 1, 2, 3, 6, 6, 1, 2, 3, 4, 5, 6, 2, 4, 1, 2, 6, 2, 3, 4, 1, 3, 7, 1, 2, 4, 6, 4, 5, 3, 5, 3, 5, 7, 1, 2, 1, 2, 3, 5, 1, 2, 5, 6, 1, 3, 4, 6, 2, 7, 6, 7, 6, 2, 3, 4, 1, 7, 3, 2, 3, 6, 7, 1, 4, 5, 3, 4, 5, 2, 3, 6, 2, 4, 1, 2, 3, 6, 1, 2, 3, 5, 6, 1, 3, 3, 6, 3, 6, 4, 1, 2, 5, 2, 5, 4, 5, 7, 2, 5, 3, 6, 6, 6, 1, 2, 3, 4, 5, 3, 5, 5, 1, 2, 3, 4, 2, 3, 5, 7, 4, 3, 5, 1, 5, 4, 4, 5, 1, 7, 4, 1, 2, 6, 1, 2, 3, 6, 6, 5, 1, 3, 7, 1, 2, 3, 4, 5, 6, 4, 2, 1, 2, 3, 4, 5, 1, 2, 3, 4, 5, 7, 6, 4, 2, 2, 3, 4, 3, 3, 4, 6, 1, 2, 3, 4, 5, 1, 2, 4, 5, 2, 6, 6, 1, 2, 3, 4, 5, 6, 1, 7, 3, 4, 6, 1, 4, 5, 1, 2, 3, 4, 6, 1, 7, 5, 5, 1, 2, 3, 4, 5, 1, 2, 3, 4, 1, 4, 5, 6, 3, 3, 5, 7, 1, 5, 6, 1, 4, 6, 4, 7, 1, 4, 6, 1, 6, 1, 2, 3, 4, 6, 3, 6, 1, 6, 1, 4, 3, 4, 2, 2, 3, 5, 4, 6, 1, 5, 1, 7, 1, 7, 1, 2, 1, 2, 3, 4, 5, 1, 2, 3, 4, 5, 6, 7, 3, 1, 3, 4, 1, 2, 5, 7, 2, 4, 5, 2, 3, 4, 6, 1, 3, 5, 1, 2, 3, 5, 6, 3, 3, 2, 1, 2, 3, 4, 5, 3, 2, 5, 2, 2, 5, 2, 5, 5, 5, 1, 6, 2, 5, 1, 2, 3, 4, 5, 6, 7, 4, 5, 1, 2, 3, 2, 3, 6, 5, 2, 2, 1, 1, 2, 3, 4, 5, 6, 1, 2, 3, 5, 7, 5, 3, 1, 2, 4, 5, 5, 3, 6, 6, 4, 2, 1, 3, 4, 6, 3, 4, 6, 1, 3, 4, 5, 6, 5, 2, 4, 6, 1, 4, 5, 6, 1, 2, 3, 4, 5, 6, 7, 4, 2, 6, 1, 3, 4, 1, 1, 3, 4, 5, 6, 4, 6, 6, 3, 3, 7, 1, 2, 3, 4, 5, 1, 2, 3, 4, 6, 2, 3, 6, 7, 1, 2, 3, 4, 5, 6, 3, 3, 4, 7, 4, 5, 6, 1, 4, 2, 5, 4, 3, 1, 2, 1, 3, 4, 1, 2, 3, 4, 1, 2, 3, 4, 1, 1, 2, 3, 4, 5, 6, 7, 1, 3, 4, 1, 1, 2, 3, 2, 5, 6, 5, 1, 2, 3, 4, 5, 1, 4, 3, 5, 1, 2, 1, 3, 4, 7, 5, 5, 1, 2, 3, 4, 5, 1, 2, 3, 6, 7, 3, 6, 5, 1, 2, 3, 7, 1, 2, 3, 4, 5, 3, 2, 4, 5, 2, 5, 1, 2, 3, 4, 5, 2, 3, 1, 2, 3, 6, 2, 6, 7, 4, 1, 2, 4, 5, 1, 2, 3, 4, 5, 6, 1, 2], \"Freq\": [0.8225812094173397, 0.4962134829104989, 0.4962134829104989, 0.53863898128898, 0.9803917065876517, 0.32913988388131055, 0.6582797677626211, 0.8604519128667585, 0.10755648910834481, 0.799551753737011, 0.9658727652269852, 0.9829490820891531, 0.18006911950954121, 0.07717247978980338, 0.6045177583534598, 0.13505183963215592, 0.3799058537165564, 0.2611852744301325, 0.11324116793474277, 0.13515881334146718, 0.0949764634291391, 0.014611763604482937, 0.7001193172759076, 0.22003749971528525, 0.07001193172759076, 0.008001363626010373, 0.9175737948224468, 0.43626536691278917, 0.5609126146021575, 0.40279032201873793, 0.14689999979506912, 0.24167419321124275, 0.15163870946587782, 0.05686451604970418, 0.9626736143416222, 0.39403989562224506, 0.4147788374971001, 0.08710355587439102, 0.07466019074947801, 0.029034518624797005, 0.33027479038465146, 0.5724763033333958, 0.08807327743590705, 0.9831038353267895, 0.7382719710010943, 0.07202653375620433, 0.10803980063430649, 0.054019900317153244, 0.03601326687810216, 0.37805569636764674, 0.37805569636764674, 0.2520371309117645, 0.969074403927231, 0.3115734073191245, 0.4372960102724554, 0.09839160231130246, 0.054662001284056926, 0.07652680179767969, 0.02186480051362277, 0.9687689185551416, 0.6103472791277929, 0.8269359790680553, 0.8466679148075062, 0.9816835700147973, 0.9291602052137143, 0.8978563564035591, 0.990182049849041, 0.26130991925645997, 0.4097081450070421, 0.1967889515388155, 0.06774701610352665, 0.012904193543528886, 0.051616774174115546, 0.4461524717290065, 0.0608389734175918, 0.16629319400808426, 0.32447452489382295, 0.5901577178483656, 0.35182479333267946, 0.04539674752679735, 0.011349186881699337, 0.9317123760909168, 0.26452023082766435, 0.6613005770691609, 0.6103472791277929, 0.10478287548601863, 0.838263003888149, 0.9055266384563067, 0.5370508224251178, 0.9777086129917949, 0.9543746217066436, 0.2891784894100908, 0.6940283745842178, 0.8973584473778453, 0.06459898037780017, 0.7751877645336019, 0.0387593882266801, 0.12919796075560033, 0.6103472791277929, 0.20902092068757228, 0.11401141128413034, 0.636563713003061, 0.03800380376137678, 0.5099219356595466, 0.0018816307588913157, 0.40266898240274157, 0.04515913821339158, 0.03763261517782631, 0.0037632615177826314, 0.9478294904941993, 0.22286374167679535, 0.3714395694613256, 0.1885770121880576, 0.07428791389226512, 0.14286137286974063, 0.22907787627334925, 0.24990313775274461, 0.11106806122344205, 0.20131086096748874, 0.20131086096748874, 0.10744843367877037, 0.10744843367877037, 0.7521390357513926, 0.6103472791277929, 0.9376053808074681, 0.5387589173921133, 0.8570373197388165, 0.9526868234592011, 0.53745626609651, 0.802293660714885, 0.10222274441541006, 0.09602742657205186, 0.9520832362658436, 0.9675277940857713, 0.9919988197323513, 0.9950211113922282, 0.4332035366480675, 0.27075221040504216, 0.30685250512571444, 0.16955838372044477, 0.5328977774071121, 0.14533575747466693, 0.12111313122888911, 0.7507817284299932, 0.19206044215650991, 0.05238012058813907, 0.9293688907245347, 0.9368384967282786, 0.9464630052922413, 0.9731969753768861, 0.578563597033375, 0.05165746402083706, 0.09298343523750671, 0.2686188129083527, 0.4084905634665418, 0.13616352115551392, 0.20066203117654682, 0.21499503340344303, 0.028666004453792405, 0.5253822759137461, 0.15138133373785903, 0.0890478433752112, 0.2315243927755491, 0.859141127628663, 0.1342408011919786, 0.7789436944219066, 0.06692594987873182, 0.039040137429260234, 0.02416770412287538, 0.09109365400160721, 0.870994308106641, 0.04333305015455926, 0.017333220061823702, 0.06066627021638296, 0.008666610030911851, 0.7282354873880863, 0.15519772682041186, 0.03581486003547966, 0.07162972007095932, 0.9763496275091328, 0.22714426874483198, 0.056786067186207996, 0.7098258398276, 0.9374986157566856, 0.9336502314740959, 0.06438967113614454, 0.16209650993831456, 0.7294342947224155, 0.29648287112391697, 0.14824143556195848, 0.5559053833573443, 0.9528471152841363, 0.6103472791277929, 0.815389903085766, 0.9831895602431725, 0.06458253578104556, 0.9364467688251605, 0.8969784130854129, 0.15517728565469843, 0.5848989997754018, 0.10146207138961051, 0.15517728565469843, 0.9584777265929032, 0.04167294463447405, 0.8246658968065925, 0.07853960921967548, 0.09817451152459435, 0.11090393541078035, 0.8872314832862428, 0.8676495681250517, 0.972303979774812, 0.9778635823407386, 0.4164800604791363, 0.22807241407190798, 0.1933657423653133, 0.15370097470063365, 0.009916191916169912, 0.5062531974907828, 0.2153465093804076, 0.18890044682491897, 0.05289212511097731, 0.026446062555488654, 0.011334026809495138, 0.9963208753076047, 0.02398069571374732, 0.7943605455178799, 0.029975869642184152, 0.14987934821092075, 0.16579220921294244, 0.6631688368517697, 0.04226075921114219, 0.1300331052650529, 0.3307052273731618, 0.40944456722391465, 0.09448720782090338, 0.07873933985075282, 0.07086540586567754, 0.015747867970150563, 0.9606620389468188, 0.5375314580092416, 0.35835430533949436, 0.09499802784857198, 0.6908947479896144, 0.13817894959792287, 0.02590855304961054, 0.0431809217493509, 0.9532751955436686, 0.9416183256084035, 0.9009013909555611, 0.1735658678042616, 0.571087694065635, 0.22955485741853954, 0.01679669688428338, 0.011197797922855586, 0.2971241735858481, 0.558996326576765, 0.09064805295839433, 0.045324026479197164, 0.9293941399948814, 0.49731181423284265, 0.12833853270524972, 0.24063474882234323, 0.13635969099932782, 0.7966667488156985, 0.1919678912808912, 0.9555387361725565, 0.5594485365388252, 0.2560855977114341, 0.17335025075850924, 0.011819335278989266, 0.003939778426329755, 0.8660956897577674, 0.8659636367969462, 0.9477361021851594, 0.8841326077815677, 0.2949747701628972, 0.25052651712465246, 0.23840426629604022, 0.10101875690510179, 0.08081500552408143, 0.036366752485836644, 0.13858265386480978, 0.8314959231888587, 0.9218252265208463, 0.19243988978200657, 0.21507987681518384, 0.38487977956401315, 0.06225996434123742, 0.14149991895735778, 0.1645691261733068, 0.5447805556081879, 0.22699189817007834, 0.06242277199677154, 0.9466984902730319, 0.9346123298401949, 0.16500066863381102, 0.8250033431690551, 0.8794471696879584, 0.10147467342553367, 0.8872657741761132, 0.1075473665668016, 0.6305864851433005, 0.3173603367173094, 0.4117107070927257, 0.025731919193295358, 0.24874188553518845, 0.6037180970794184, 0.4024787313862789, 0.20478126837170513, 0.7508646506962522, 0.9351590732143901, 0.9572753073402379, 0.8675258416696529, 0.9471423524589384, 0.9892275450965713, 0.009159514306449734, 0.7276195559343351, 0.044548136077612356, 0.022274068038806178, 0.13364440823283705, 0.06682220411641852, 0.3049594871465796, 0.2939699560782344, 0.15934820049100554, 0.14286390388848774, 0.08791624854676168, 0.013736913835431512, 0.852408641565164, 0.9279180447260026, 0.45687543005256737, 0.04568754300525674, 0.502562973057824, 0.8225972303741655, 0.8341509218658316, 0.5897459839076608, 0.13009102586198398, 0.24717294913776958, 0.017345470114931198, 0.013009102586198399, 0.8222268377028354, 0.4300812142722568, 0.09633819199698553, 0.1445072879954783, 0.26148937827753216, 0.06537234456938304, 0.248379359640201, 0.1241896798201005, 0.5795518391604689, 0.041396559940033495, 0.4013203617075478, 0.3418654933064296, 0.10404601970195684, 0.11890973680223639, 0.04459115130083864, 0.5994844678127174, 0.0985453919692138, 0.2956361759076414, 0.9656140165689824, 0.04598161983661821, 0.9650598165492917, 0.20292091981252755, 0.10742872225369106, 0.3103496420662186, 0.20292091981252755, 0.16711134572796388, 0.2614967389998012, 0.3834529187936347, 0.24050893131435075, 0.006806856546632568, 0.045379043644217125, 0.06239618501079854, 0.22331979469882451, 0.33026166821657144, 0.39316865263877554, 0.009436047663330612, 0.03459884143221225, 0.009436047663330612, 0.2894571842267618, 0.37511288159998724, 0.22152335527558303, 0.10337756579527208, 0.008860934211023321, 0.3019414937976882, 0.2722423304733254, 0.2375933065949022, 0.15344567717587432, 0.039598884432483696, 0.27265977210076253, 0.1473836605950068, 0.5084736290527734, 0.014738366059500678, 0.051584281208252376, 0.018644760570538634, 0.8949485073858544, 0.07457904228215453, 0.8673900373608695, 0.9314290224138341, 0.7995576522321728, 0.651042181685084, 0.039219408535246025, 0.30983332742844355, 0.8274698805742746, 0.8698089710541795, 0.49241069207038846, 0.27199828704840506, 0.14772320762111654, 0.04924106920703885, 0.03751700511012484, 0.9601442260380584, 0.5370114431284901, 0.43818307118728905, 0.10111917027398978, 0.47188946127861897, 0.12575064226241117, 0.07451889911846588, 0.7405315599897547, 0.05588917433884941, 0.9520832362658436, 0.030469720027022428, 0.13203545345043052, 0.5281418138017221, 0.010156573342340809, 0.050782866711704046, 0.24375776021617943, 0.1235315777338802, 0.8647210441371614, 0.9381060179067897, 0.8945841345206907, 0.11182301681508634, 0.15360832538185043, 0.6605157991419568, 0.18432999045822052, 0.041703753086928655, 0.9383344444558948, 0.020851876543464327, 0.2746298074227012, 0.6300330876167851, 0.05654143093996789, 0.032309389108553084, 0.6582753506908241, 0.32913767534541205, 0.1123524929678972, 0.7864674507752804, 0.9647668478780186, 0.4873319692916358, 0.4873319692916358, 0.16639554700782913, 0.811178291663167, 0.4342343955587096, 0.3722009104788939, 0.17782932389547154, 0.01240669701596313, 0.3631539910440891, 0.5524906872294689, 0.062077605306681896, 0.02483104212267276, 0.16229185187044254, 0.2921253333667966, 0.5193339259854162, 0.8675139158411388, 0.7330021242544905, 0.2443340414181635, 0.896860312081702, 0.7995576522321728, 0.931581901006179, 0.9492076733886284, 0.03390027404959387, 0.8131427073612383, 0.3048764890967866, 0.6097529781935732, 0.9674004998794465, 0.09547868110544407, 0.6301592952959308, 0.26734030709524337, 0.53771290959081, 0.8510075824007389, 0.14183459706678983, 0.8735110639933266, 0.14110816481260546, 0.77609490646933, 0.07055408240630273, 0.1126027924332233, 0.7238750942135783, 0.16086113204746186, 0.9464096545633506, 0.9577292957588457, 0.4788456376022101, 0.19453104027589785, 0.24939876958448443, 0.07980760626703502, 0.29985334858505813, 0.2761807158020272, 0.2682898382076836, 0.01578175518868727, 0.1341449191038418, 0.24862303770710173, 0.7458691131213052, 0.8455789552542872, 0.1376523880646514, 0.4961562565623602, 0.4961562565623602, 0.8267784990757004, 0.7910829845183541, 0.15511431068987336, 0.054290008741455675, 0.8991587792669263, 0.04281708472699649, 0.8812600501651552, 0.43146640991051866, 0.43146640991051866, 0.792831197467399, 0.18876933273033308, 0.9244974026792434, 0.9101263472644402, 0.859311939019943, 0.9167469713813989, 0.17908924641845755, 0.007462051934102398, 0.6118882585963966, 0.15670309061615034, 0.04477231160461439, 0.28151078136076174, 0.6756258752658282, 0.9497473428118098, 0.34467310013126123, 0.06154876788058236, 0.3662151688894651, 0.22773044115815474, 0.23489453606151953, 0.27404362540510613, 0.46978907212303905, 0.46340200967452627, 0.8796487857334961, 0.17074466289168563, 0.7968084268278663, 0.9467989632212233, 0.8336671739456721, 0.8136005970122211, 0.08625652375680395, 0.8625652375680396, 0.9077466493926728, 0.7348509907698881, 0.977005079499887, 0.5089405548112116, 0.32387126215258916, 0.1735024618674585, 0.5777611718199326, 0.03851741145466217, 0.2661202973231205, 0.11555223436398651, 0.8658125318077193, 0.893051825416564, 0.6469548371961776, 0.1617387092990444, 0.1617387092990444, 0.1970773426966372, 0.40490435863127283, 0.15049542533197752, 0.2078270159346356, 0.003583224412666131, 0.03583224412666131, 0.8570742481841758, 0.94622428064965, 0.3766789900957514, 0.4576182772237641, 0.006226099009847131, 0.143200277226484, 0.012452198019694261, 0.17270521267597477, 0.3616015390403222, 0.11873483371473266, 0.3238222737674527, 0.021588151584496847, 0.6306131902650317, 0.93145370064303, 0.9182357224668831, 0.9624385327167128, 0.8241854204625768, 0.14028688007873646, 0.035071720019684116, 0.9820721727082791, 0.6219399956743292, 0.06910444396381436, 0.2994525905098622, 0.36450380405328286, 0.23625246559009075, 0.21375223077198688, 0.11925124453595057, 0.06750070445431165, 0.7400312440716992, 0.1382475950463614, 0.03659495162991919, 0.08538822046981144, 0.29991516276977936, 0.6748091162320036, 0.8555799011950334, 0.49179236768846507, 0.11022932379224218, 0.18654193257148677, 0.08055219815586928, 0.10175014503899278, 0.025437536259748195, 0.978847609371399, 0.4794805213748526, 0.19185005681916492, 0.6906602045489937, 0.07674002272766596, 0.9141838058699276, 0.05835215782148474, 0.01945071927382825, 0.19966673721399078, 0.19134728983007449, 0.5158057378028095, 0.045756960611539554, 0.049916684303497695, 0.9572222288274893, 0.0410238098068924, 0.8729758618486274, 0.9140086799000174, 0.4328762558723542, 0.19301408811624451, 0.0543437723822436, 0.2698449387256234, 0.04872200282545978, 0.4069761432660874, 0.17388980666823733, 0.28118351716566037, 0.1368919754622294, 0.8457404743556756, 0.02967510436335704, 0.10386286527174964, 0.02967510436335704, 0.9250230645157187, 0.1924604309760648, 0.7698417239042592, 0.5388406478822221, 0.7973290999273476, 0.15685162621521592, 0.03921290655380398, 0.9382381592777201, 0.052124342182095565, 0.013031085545523891, 0.3938732741438942, 0.3938732741438942, 0.1317061299071626, 0.2634122598143252, 0.5926775845822317, 0.30499470465413286, 0.6971307534951608, 0.2895504832600665, 0.20491264969173936, 0.3675063825993152, 0.10022901343617686, 0.037864293964777924, 0.7920692116390896, 0.19318761259489992, 0.9405958956847137, 0.8699543493966471, 0.9333442879343439, 0.9602015814376996, 0.9635350989170204, 0.8584797074786296, 0.946118468414609, 0.8933437048368886, 0.03884103064508211, 0.07768206129016422, 0.875768296854009, 0.10947103710675113, 0.8996739873882115, 0.09814625316962307, 0.9007004764542932, 0.08716456223751223, 0.7706382682025937, 0.1778396003544447, 0.9192570757595269, 0.0889603621702768, 0.16607974110597967, 0.004488641651512964, 0.7316485891966131, 0.040397774863616676, 0.05835234146966853, 0.2959381715649537, 0.39458422875327165, 0.15783369150130866, 0.08878145146948611, 0.009864605718831791, 0.039458422875327165, 0.019729211437663582, 0.9504551549667052, 0.0542015300538991, 0.9214260109162846, 0.8136062865660793, 0.08288507563647991, 0.8564791149102924, 0.055256717090986604, 0.5373307362060654, 0.08604750131826834, 0.774427511864415, 0.08604750131826834, 0.07186889877192593, 0.8085251111841667, 0.03593444938596296, 0.08983612346490742, 0.12285555779946467, 0.8354177930363597, 0.024571111559892934, 0.16314956093978417, 0.10488186060414696, 0.6001573134570631, 0.04078739023494604, 0.08157478046989208, 0.9410807084637735, 0.9807503144876466, 0.971688776774856, 0.22523058537997412, 0.7007173767376973, 0.03753843089666235, 0.01251281029888745, 0.01251281029888745, 0.9715181678535509, 0.9481862643151008, 0.049165213705227445, 0.9847517325492783, 0.9694971218660947, 0.8339736425208152, 0.1289065073837611, 0.7734390443025667, 0.9710151645764602, 0.9112027739145203, 0.9670090803360649, 0.9596721883590514, 0.974891186224308, 0.833742881965962, 0.18163249476875906, 0.24406866484552, 0.4200251441527553, 0.03405609276914232, 0.022704061846094883, 0.08514023192285582, 0.011352030923047441, 0.848152426653676, 0.09423915851707511, 0.20282426252879934, 0.043462341970457, 0.738859813497769, 0.02264187831355174, 0.9056751325420697, 0.06792563494065522, 0.950101418448226, 0.9385087241629166, 0.9874604021628204, 0.9401026998235805, 0.30032139092797705, 0.30964400616742643, 0.24505160057981273, 0.06858781211880628, 0.03862226313486179, 0.03862226313486179, 0.03112553171281797, 0.35794361469740665, 0.37350638055381563, 0.2023159561333168, 0.046688297569226954, 0.8638203747792687, 0.968395598063176, 0.6174916713070406, 0.28453047599442066, 0.042376879403424356, 0.054484559232974177, 0.9615623543402758, 0.4512558209785522, 0.5225067400804289, 0.7958546916188227, 0.8793721181471714, 0.9760558484830962, 0.014651698002386273, 0.670315183609172, 0.2747193375447426, 0.036629245005965684, 0.2138427856892455, 0.6109793876835586, 0.15274484692088966, 0.07729187080993236, 0.5197212002736831, 0.3678026955782988, 0.01599142154688256, 0.01599142154688256, 0.8341321106904923, 0.19280134619093353, 0.04820033654773338, 0.7230050482160006, 0.1641680698131655, 0.8208403490658275, 0.25796411905456423, 0.687904317478838, 0.2517385342215471, 0.4384446137691945, 0.16992351059954428, 0.04195642237025785, 0.09020630809605437, 0.00839128447405157, 0.5985076246916154, 0.8492722802107376, 0.9296251954990447, 0.04767308694866896, 0.04854718653869863, 0.45310707436118725, 0.4935630631434361, 0.9661580087990157, 0.38913260167078734, 0.23528948008001094, 0.28958705240616733, 0.0633471677138491, 0.00904959538769273, 0.8687346950153847, 0.9317186413969166, 0.8947595759356988, 0.9576784522768058, 0.9618957265918552, 0.5371319281567802, 0.3025318398215028, 0.3046474470929818, 0.26021969439192194, 0.11001157811691009, 0.021156072714790402, 0.31353786484768964, 0.33424319554517856, 0.20409540258953382, 0.11535827102886693, 0.029579043853555625, 0.26550711254344944, 0.31378113300589483, 0.38619216369956283, 0.024137010231222677, 0.2506483787228833, 0.38613398884336075, 0.1490341711325252, 0.06096852455421486, 0.15580845163854906, 0.9250712970981914, 0.9648005508948139, 0.9105582945570767, 0.9135033495173009, 0.47972786571002723, 0.08534738336975735, 0.7681264503278161, 0.1706947667395147, 0.9200891283804776, 0.08364446621640706, 0.8888570244751703, 0.09876189160835226, 0.9171542351370832, 0.9454957629941684, 0.04799347074264619, 0.9118759441102776, 0.97220922031223, 0.9723064576225987, 0.8871347001941061, 0.9625561902622266, 0.7619497490362416, 0.21533362472763348, 0.01656412497904873, 0.559003409748253, 0.20415776703849242, 0.097217984304044, 0.1361051780256616, 0.9402461080296505, 0.3570850682283271, 0.17039328981849633, 0.3926454069730568, 0.022225211715456043, 0.022225211715456043, 0.03556033874472967, 0.5372902270579489, 0.06348639400104403, 0.5475701482590047, 0.3809183640062641, 0.9410599941803407, 0.5319230028909695, 0.45263013289480014, 0.016519347915868617, 0.12290584280033942, 0.6964664425352567, 0.16387445706711923, 0.9114426025607909, 0.11589197946156199, 0.13244797652749943, 0.34767593838468597, 0.36423193545062343, 0.04966799119781228, 0.21484005360566766, 0.7519401876198368, 0.9167059465320978, 0.9695023497008805, 0.9027532462977769, 0.06687061083687236, 0.9072573918440661, 0.20771860259587419, 0.41543720519174837, 0.20771860259587419, 0.938044974058591, 0.941485821356309, 0.5225344079630342, 0.3150030118926092, 0.03891213676320467, 0.10932457471567027, 0.014823671147887494, 0.2611870847942297, 0.4536407262215568, 0.17183360841725637, 0.09622682071366356, 0.01374668867338051, 0.6459399550564386, 0.347813821953467, 0.9385962374623608, 0.31270943458441, 0.5090618702536907, 0.17453549837269394, 0.5370585778336728, 0.1844646309996629, 0.2674737149495112, 0.2490272518495449, 0.3043666411494438, 0.9506008393882327, 0.9269778401210902, 0.8109008199205757, 0.1441601457636579, 0.036040036440914476, 0.20535158098233044, 0.7700684286837393, 0.6378701545986645, 0.053796278098682544, 0.023055547756578233, 0.023055547756578233, 0.26129620790788666, 0.8198413717017722, 0.15867897516808493, 0.2872414820252632, 0.13564181095637426, 0.5505461738817544, 0.01595786011251462, 0.9583730790510121, 0.9152521949970294, 0.7344369702147817, 0.9626634028015949, 0.6185357697862123, 0.20617858992873742, 0.12734559966186723, 0.04851260939499704, 0.31434738612868135, 0.30567573409754534, 0.24063834386402505, 0.09972399835806443, 0.021679130077840093, 0.019511217070056083, 0.9400906290059403, 0.9696357848028815], \"Term\": [\"abroad\", \"absent\", \"absent\", \"accent\", \"account\", \"address\", \"address\", \"adult\", \"adult\", \"adverts\", \"agents\", \"ages\", \"aircraft\", \"aircraft\", \"aircraft\", \"aircraft\", \"airline\", \"airline\", \"airline\", \"airline\", \"airline\", \"airline\", \"airport\", \"airport\", \"airport\", \"airport\", \"allocate\", \"allocated\", \"allocated\", \"also\", \"also\", \"also\", \"also\", \"also\", \"alternative\", \"another\", \"another\", \"another\", \"another\", \"another\", \"apart\", \"apart\", \"apart\", \"apology\", \"app\", \"app\", \"app\", \"app\", \"app\", \"approach\", \"approach\", \"approach\", \"arrive\", \"asked\", \"asked\", \"asked\", \"asked\", \"asked\", \"asked\", \"assigned\", \"assigning\", \"assisted\", \"attempt\", \"average\", \"aviv\", \"avoided\", \"avoiding\", \"back\", \"back\", \"back\", \"back\", \"back\", \"back\", \"bag\", \"bag\", \"bag\", \"bag\", \"bags\", \"bags\", \"bags\", \"bags\", \"balance\", \"barcode\", \"barcode\", \"barcodes\", \"bargain\", \"bargain\", \"basic\", \"beautifully\", \"beauvais\", \"belt\", \"beside\", \"beside\", \"beverages\", \"bit\", \"bit\", \"bit\", \"bit\", \"blur\", \"board\", \"board\", \"board\", \"board\", \"boarding\", \"boarding\", \"boarding\", \"boarding\", \"boarding\", \"boarding\", \"boeing\", \"booked\", \"booked\", \"booked\", \"booked\", \"booked\", \"booking\", \"booking\", \"booking\", \"booking\", \"booking\", \"bookings\", \"bookings\", \"bookings\", \"braces\", \"bratislava\", \"breathe\", \"bremen\", \"bucharest\", \"bugs\", \"cabin\", \"cabin\", \"cabin\", \"canaria\", \"canceled\", \"cancellation\", \"cancelled\", \"cannot\", \"cannot\", \"cannot\", \"car\", \"car\", \"car\", \"car\", \"care\", \"care\", \"care\", \"carrier\", \"carrying\", \"carryon\", \"caused\", \"change\", \"change\", \"change\", \"change\", \"charge\", \"charge\", \"charge\", \"charge\", \"charge\", \"charged\", \"charged\", \"charged\", \"charged\", \"chat\", \"chat\", \"check\", \"check\", \"check\", \"check\", \"check\", \"checkin\", \"checkin\", \"checkin\", \"checkin\", \"checkin\", \"checking\", \"checking\", \"checking\", \"checking\", \"checks\", \"children\", \"children\", \"children\", \"claims\", \"clean\", \"clean\", \"cm\", \"cm\", \"cold\", \"cold\", \"cold\", \"colleagues\", \"colourful\", \"com\", \"comfort\", \"comfortable\", \"comfortable\", \"comments\", \"company\", \"company\", \"company\", \"company\", \"compensation\", \"compensation\", \"complaint\", \"complaint\", \"complaint\", \"con\", \"con\", \"considerably\", \"constant\", \"contact\", \"cost\", \"cost\", \"cost\", \"cost\", \"cost\", \"could\", \"could\", \"could\", \"could\", \"could\", \"could\", \"counter\", \"crew\", \"crew\", \"crew\", \"crew\", \"customer\", \"customer\", \"customer\", \"customer\", \"customers\", \"customers\", \"customers\", \"customers\", \"customers\", \"customers\", \"customs\", \"damage\", \"damage\", \"days\", \"days\", \"days\", \"days\", \"days\", \"dealing\", \"dec\", \"deck\", \"delay\", \"delay\", \"delay\", \"delay\", \"delay\", \"delayed\", \"delayed\", \"delayed\", \"delayed\", \"delgada\", \"departure\", \"departure\", \"departure\", \"departure\", \"desk\", \"desk\", \"di\", \"didnt\", \"didnt\", \"didnt\", \"didnt\", \"didnt\", \"digital\", \"dime\", \"directly\", \"dollars\", \"dont\", \"dont\", \"dont\", \"dont\", \"dont\", \"dont\", \"dreadful\", \"dreadful\", \"driver\", \"dublin\", \"dublin\", \"dublin\", \"dublin\", \"dublin\", \"due\", \"due\", \"due\", \"due\", \"e\", \"easily\", \"east\", \"east\", \"easy\", \"easy\", \"efficient\", \"efficient\", \"ema\", \"email\", \"email\", \"email\", \"email\", \"encounters\", \"encounters\", \"ends\", \"ends\", \"engineer\", \"equal\", \"equipment\", \"error\", \"euro\", \"euro\", \"euros\", \"euros\", \"euros\", \"euros\", \"euros\", \"even\", \"even\", \"even\", \"even\", \"even\", \"even\", \"event\", \"exact\", \"exactly\", \"exactly\", \"exactly\", \"exception\", \"expectation\", \"experience\", \"experience\", \"experience\", \"experience\", \"experience\", \"express\", \"extra\", \"extra\", \"extra\", \"extra\", \"extra\", \"family\", \"family\", \"family\", \"family\", \"far\", \"far\", \"far\", \"far\", \"far\", \"fee\", \"fee\", \"fee\", \"final\", \"final\", \"finish\", \"flew\", \"flew\", \"flew\", \"flew\", \"flew\", \"flight\", \"flight\", \"flight\", \"flight\", \"flight\", \"flight\", \"flights\", \"flights\", \"flights\", \"flights\", \"flights\", \"flights\", \"fly\", \"fly\", \"fly\", \"fly\", \"fly\", \"flying\", \"flying\", \"flying\", \"flying\", \"flying\", \"food\", \"food\", \"food\", \"food\", \"food\", \"friendly\", \"friendly\", \"friendly\", \"frs\", \"fuel\", \"fuelled\", \"gate\", \"gate\", \"gate\", \"gbp\", \"generous\", \"get\", \"get\", \"get\", \"get\", \"get\", \"gift\", \"glance\", \"glasgow\", \"glasgow\", \"glasgow\", \"good\", \"good\", \"good\", \"good\", \"gran\", \"great\", \"great\", \"great\", \"great\", \"great\", \"great\", \"greedy\", \"greedy\", \"groups\", \"h\", \"h\", \"hand\", \"hand\", \"hand\", \"happy\", \"happy\", \"happy\", \"help\", \"help\", \"help\", \"help\", \"hidden\", \"hidden\", \"higher\", \"higher\", \"highly\", \"hire\", \"hire\", \"hotel\", \"hotel\", \"hour\", \"hour\", \"hour\", \"hour\", \"hours\", \"hours\", \"hours\", \"hours\", \"husband\", \"husband\", \"husband\", \"ideal\", \"ie\", \"ie\", \"improved\", \"indicator\", \"informative\", \"insurance\", \"insurance\", \"intentionally\", \"interesting\", \"interesting\", \"interior\", \"journey\", \"journey\", \"journey\", \"justification\", \"kg\", \"kg\", \"knows\", \"la\", \"la\", \"la\", \"landing\", \"landing\", \"landing\", \"language\", \"lap\", \"late\", \"late\", \"late\", \"late\", \"left\", \"left\", \"left\", \"left\", \"left\", \"leg\", \"leg\", \"legroom\", \"legroom\", \"legs\", \"legs\", \"letters\", \"line\", \"line\", \"line\", \"live\", \"live\", \"lockers\", \"logged\", \"logged\", \"lost\", \"lost\", \"lots\", \"lottery\", \"loud\", \"lounge\", \"low\", \"low\", \"low\", \"low\", \"low\", \"lowcost\", \"lowcost\", \"loyal\", \"luggage\", \"luggage\", \"luggage\", \"luggage\", \"luton\", \"luton\", \"luton\", \"luxury\", \"magazines\", \"malta\", \"malta\", \"manager\", \"marked\", \"marks\", \"marrakesh\", \"marrakesh\", \"maximum\", \"messy\", \"midlands\", \"mins\", \"mins\", \"mins\", \"minutes\", \"minutes\", \"minutes\", \"minutes\", \"miserable\", \"mistakes\", \"mobile\", \"mobile\", \"mobile\", \"money\", \"money\", \"money\", \"money\", \"money\", \"money\", \"mother\", \"naples\", \"never\", \"never\", \"never\", \"never\", \"never\", \"next\", \"next\", \"next\", \"next\", \"next\", \"nickel\", \"nue\", \"nuts\", \"october\", \"offered\", \"offered\", \"offered\", \"older\", \"onboard\", \"onboard\", \"onboard\", \"one\", \"one\", \"one\", \"one\", \"one\", \"online\", \"online\", \"online\", \"online\", \"ontime\", \"ontime\", \"packed\", \"paid\", \"paid\", \"paid\", \"paid\", \"paid\", \"paid\", \"paris\", \"partly\", \"partner\", \"partner\", \"partner\", \"pass\", \"pass\", \"pass\", \"passengers\", \"passengers\", \"passengers\", \"passengers\", \"passengers\", \"passes\", \"passes\", \"paste\", \"pax\", \"pay\", \"pay\", \"pay\", \"pay\", \"pay\", \"people\", \"people\", \"people\", \"people\", \"per\", \"per\", \"per\", \"per\", \"perfect\", \"period\", \"period\", \"permit\", \"person\", \"person\", \"person\", \"phone\", \"phone\", \"phone\", \"photograph\", \"photograph\", \"pick\", \"pick\", \"pick\", \"pilot\", \"pilot\", \"plane\", \"plane\", \"plane\", \"plane\", \"plane\", \"pleasant\", \"pleasant\", \"pocket\", \"poitiers\", \"police\", \"polish\", \"ponta\", \"por\", \"possibly\", \"pounds\", \"pounds\", \"pounds\", \"prestwick\", \"prestwick\", \"print\", \"print\", \"printed\", \"printed\", \"printing\", \"printing\", \"prior\", \"prior\", \"priority\", \"priority\", \"priority\", \"priority\", \"priority\", \"problem\", \"problem\", \"problem\", \"problem\", \"problem\", \"problem\", \"problem\", \"products\", \"professional\", \"professional\", \"proved\", \"provide\", \"provide\", \"provide\", \"q\", \"que\", \"que\", \"que\", \"quick\", \"quick\", \"quick\", \"quick\", \"quite\", \"quite\", \"quite\", \"really\", \"really\", \"really\", \"really\", \"really\", \"rear\", \"reasonably\", \"rebook\", \"received\", \"received\", \"received\", \"received\", \"received\", \"recline\", \"refund\", \"refund\", \"refunded\", \"refunds\", \"relevant\", \"reminder\", \"reminder\", \"rental\", \"rented\", \"representative\", \"requires\", \"respect\", \"restriction\", \"return\", \"return\", \"return\", \"return\", \"return\", \"return\", \"return\", \"riga\", \"riga\", \"room\", \"room\", \"room\", \"row\", \"row\", \"row\", \"rudest\", \"ruined\", \"running\", \"ryan\", \"ryanair\", \"ryanair\", \"ryanair\", \"ryanair\", \"ryanair\", \"ryanair\", \"ryanairs\", \"ryanairs\", \"ryanairs\", \"ryanairs\", \"ryanairs\", \"sad\", \"safety\", \"said\", \"said\", \"said\", \"said\", \"santorini\", \"schedule\", \"schedule\", \"sch\\u00f6nefeld\", \"scratch\", \"screen\", \"seat\", \"seat\", \"seat\", \"seat\", \"seated\", \"seated\", \"seated\", \"seats\", \"seats\", \"seats\", \"seats\", \"seats\", \"seemingly\", \"sell\", \"sell\", \"sell\", \"separated\", \"separated\", \"serious\", \"serious\", \"service\", \"service\", \"service\", \"service\", \"service\", \"service\", \"settled\", \"silly\", \"simply\", \"simply\", \"sit\", \"sit\", \"sit\", \"slightly\", \"small\", \"small\", \"small\", \"small\", \"small\", \"soft\", \"somewhat\", \"speedy\", \"split\", \"splitting\", \"stacked\", \"staff\", \"staff\", \"staff\", \"staff\", \"staff\", \"stansted\", \"stansted\", \"stansted\", \"stansted\", \"stansted\", \"start\", \"start\", \"start\", \"start\", \"still\", \"still\", \"still\", \"still\", \"still\", \"stn\", \"storage\", \"store\", \"stored\", \"strategies\", \"strict\", \"strict\", \"strict\", \"stuck\", \"stuck\", \"support\", \"support\", \"switch\", \"tag\", \"talk\", \"talk\", \"tall\", \"tea\", \"tel\", \"test\", \"th\", \"th\", \"th\", \"ticket\", \"ticket\", \"ticket\", \"ticket\", \"tight\", \"time\", \"time\", \"time\", \"time\", \"time\", \"time\", \"timely\", \"together\", \"together\", \"together\", \"toilets\", \"told\", \"told\", \"told\", \"transfer\", \"transfer\", \"transfer\", \"transparency\", \"travelling\", \"travelling\", \"travelling\", \"travelling\", \"travelling\", \"trolley\", \"trolley\", \"turbulence\", \"turns\", \"twice\", \"twice\", \"unbelievably\", \"unlike\", \"unlike\", \"unlike\", \"unnecessary\", \"update\", \"us\", \"us\", \"us\", \"us\", \"us\", \"use\", \"use\", \"use\", \"use\", \"use\", \"value\", \"value\", \"virus\", \"waiting\", \"waiting\", \"waiting\", \"waiver\", \"want\", \"want\", \"want\", \"want\", \"wants\", \"warm\", \"water\", \"water\", \"water\", \"web\", \"web\", \"website\", \"website\", \"website\", \"website\", \"website\", \"week\", \"week\", \"well\", \"well\", \"well\", \"well\", \"willing\", \"wind\", \"wing\", \"wizz\", \"worst\", \"worst\", \"worst\", \"worst\", \"would\", \"would\", \"would\", \"would\", \"would\", \"would\", \"x\", \"zero\"]}, \"R\": 30, \"lambda.step\": 0.01, \"plot.opts\": {\"xlab\": \"PC1\", \"ylab\": \"PC2\"}, \"topic.order\": [2, 3, 1, 5, 7, 6, 4]};\n",
       "\n",
       "function LDAvis_load_lib(url, callback){\n",
       "  var s = document.createElement('script');\n",
       "  s.src = url;\n",
       "  s.async = true;\n",
       "  s.onreadystatechange = s.onload = callback;\n",
       "  s.onerror = function(){console.warn(\"failed to load library \" + url);};\n",
       "  document.getElementsByTagName(\"head\")[0].appendChild(s);\n",
       "}\n",
       "\n",
       "if(typeof(LDAvis) !== \"undefined\"){\n",
       "   // already loaded: just create the visualization\n",
       "   !function(LDAvis){\n",
       "       new LDAvis(\"#\" + \"ldavis_el1310018418811728965215921330\", ldavis_el1310018418811728965215921330_data);\n",
       "   }(LDAvis);\n",
       "}else if(typeof define === \"function\" && define.amd){\n",
       "   // require.js is available: use it to load d3/LDAvis\n",
       "   require.config({paths: {d3: \"https://d3js.org/d3.v5\"}});\n",
       "   require([\"d3\"], function(d3){\n",
       "      window.d3 = d3;\n",
       "      LDAvis_load_lib(\"https://cdn.jsdelivr.net/gh/bmabey/pyLDAvis@3.4.0/pyLDAvis/js/ldavis.v3.0.0.js\", function(){\n",
       "        new LDAvis(\"#\" + \"ldavis_el1310018418811728965215921330\", ldavis_el1310018418811728965215921330_data);\n",
       "      });\n",
       "    });\n",
       "}else{\n",
       "    // require.js not available: dynamically load d3 & LDAvis\n",
       "    LDAvis_load_lib(\"https://d3js.org/d3.v5.js\", function(){\n",
       "         LDAvis_load_lib(\"https://cdn.jsdelivr.net/gh/bmabey/pyLDAvis@3.4.0/pyLDAvis/js/ldavis.v3.0.0.js\", function(){\n",
       "                 new LDAvis(\"#\" + \"ldavis_el1310018418811728965215921330\", ldavis_el1310018418811728965215921330_data);\n",
       "            })\n",
       "         });\n",
       "}\n",
       "</script>"
      ],
      "text/plain": [
       "PreparedData(topic_coordinates=              x         y  topics  cluster       Freq\n",
       "topic                                                \n",
       "1     -0.133302 -0.017687       1        1  30.779408\n",
       "2     -0.099154 -0.029867       2        1  26.006412\n",
       "0     -0.106325  0.130000       3        1  23.169941\n",
       "4     -0.071258 -0.078466       4        1   8.539441\n",
       "6      0.038311 -0.155483       5        1   5.712617\n",
       "5      0.108537  0.200483       6        1   5.084462\n",
       "3      0.263191 -0.048980       7        1   0.707718, topic_info=         Term         Freq        Total Category  logprob  loglift\n",
       "10     flight  1762.000000  1762.000000  Default  30.0000  30.0000\n",
       "39       crew   333.000000   333.000000  Default  29.0000  29.0000\n",
       "21      seats   375.000000   375.000000  Default  28.0000  28.0000\n",
       "18        pay   533.000000   533.000000  Default  27.0000  27.0000\n",
       "121     check   537.000000   537.000000  Default  26.0000  26.0000\n",
       "..        ...          ...          ...      ...      ...      ...\n",
       "293   problem     2.098480   101.372526   Topic7  -5.6391   1.0733\n",
       "94        use     1.850791   145.489583   Topic7  -5.7647   0.5864\n",
       "27        app     1.720052    55.535090   Topic7  -5.8379   1.4762\n",
       "33   boarding     1.796154   531.453897   Topic7  -5.7946  -0.7391\n",
       "486    return     1.536747   176.179929   Topic7  -5.9506   0.2090\n",
       "\n",
       "[535 rows x 6 columns], token_table=      Topic      Freq     Term\n",
       "term                          \n",
       "4454      5  0.822581   abroad\n",
       "6395      6  0.496213   absent\n",
       "6395      7  0.496213   absent\n",
       "5361      7  0.538639   accent\n",
       "1184      2  0.980392  account\n",
       "...     ...       ...      ...\n",
       "360       4  0.099724    would\n",
       "360       5  0.021679    would\n",
       "360       6  0.019511    would\n",
       "3357      1  0.940091        x\n",
       "2659      2  0.969636     zero\n",
       "\n",
       "[957 rows x 3 columns], R=30, lambda_step=0.01, plot_opts={'xlab': 'PC1', 'ylab': 'PC2'}, topic_order=[2, 3, 1, 5, 7, 6, 4])"
      ]
     },
     "execution_count": 38,
     "metadata": {},
     "output_type": "execute_result"
    }
   ],
   "source": [
    "# Visualize the topics under investigation. \n",
    "from pyLDAvis import gensim \n",
    "pyLDAvis.enable_notebook()\n",
    "viz = pyLDAvis.gensim.prepare(elda_model, corpus, dict)\n",
    "viz "
   ]
  },
  {
   "cell_type": "markdown",
   "metadata": {},
   "source": [
    "## <div style=\"padding: 20px;color:white;margin:10;font-size:90%;text-align:left;display:fill;border-radius:10px;overflow:hidden;background-image: url(https://w0.peakpx.com/wallpaper/957/661/HD-wallpaper-white-marble-white-stone-texture-marble-stone-background-white-stone.jpg)\"><b><span style='color:black'> Conclusion</span></b> </div>\n",
    "\n",
    "The stopwords were only removed during the topic modelling phase and not sentiment analysis phase because the sentiment or origanl feeling of the reviews may be distorted without stop words. "
   ]
  },
  {
   "cell_type": "markdown",
   "metadata": {},
   "source": [
    "## <div style=\"padding: 20px;color:white;margin:10;font-size:90%;text-align:left;display:fill;border-radius:10px;overflow:hidden;background-image: url(https://w0.peakpx.com/wallpaper/957/661/HD-wallpaper-white-marble-white-stone-texture-marble-stone-background-white-stone.jpg)\"><b><span style='color:black'> Reccommendations</span></b> </div>\n",
    "\n",
    "1. The number of **negative reviews** is much more than the number of **positive reviews**. \n",
    "\n",
    "2. The areas that need to be adressed are:\n",
    "* Flight\n",
    "* Check-ins\n",
    "* Boarding\n",
    "* Time taken to board.\n",
    "* The payment options.\n",
    "* The staff.\n",
    "* Service of the plane. "
   ]
  },
  {
   "cell_type": "code",
   "execution_count": null,
   "metadata": {},
   "outputs": [],
   "source": []
  }
 ],
 "metadata": {
  "kernelspec": {
   "display_name": "Python 3",
   "language": "python",
   "name": "python3"
  },
  "language_info": {
   "codemirror_mode": {
    "name": "ipython",
    "version": 3
   },
   "file_extension": ".py",
   "mimetype": "text/x-python",
   "name": "python",
   "nbconvert_exporter": "python",
   "pygments_lexer": "ipython3",
   "version": "3.10.11"
  }
 },
 "nbformat": 4,
 "nbformat_minor": 2
}
